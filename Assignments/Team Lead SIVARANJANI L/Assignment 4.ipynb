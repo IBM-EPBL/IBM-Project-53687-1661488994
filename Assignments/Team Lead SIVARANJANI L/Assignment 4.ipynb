{
  "nbformat": 4,
  "nbformat_minor": 0,
  "metadata": {
    "colab": {
      "provenance": [],
      "collapsed_sections": []
    },
    "kernelspec": {
      "name": "python3",
      "display_name": "Python 3"
    },
    "language_info": {
      "name": "python"
    }
  },
  "cells": [
    {
      "cell_type": "markdown",
      "source": [
        "**Load the dataset**"
      ],
      "metadata": {
        "id": "XjEz-2QXy9Uw"
      }
    },
    {
      "cell_type": "code",
      "source": [
        "file=('/content/drive/MyDrive/DATASET/Mall_Customers.csv')"
      ],
      "metadata": {
        "id": "mq-u2SxtzGjo"
      },
      "execution_count": 1,
      "outputs": []
    },
    {
      "cell_type": "code",
      "source": [
        "import pandas as pd\n",
        "import numpy as np\n",
        "import seaborn as sns\n",
        "from matplotlib import pyplot as plt\n",
        "from sklearn.preprocessing import scale\n",
        "import warnings\n",
        "warnings.filterwarnings('ignore')"
      ],
      "metadata": {
        "id": "UTh0evlhzuO0"
      },
      "execution_count": 2,
      "outputs": []
    },
    {
      "cell_type": "code",
      "source": [
        "dataset=pd.read_csv(file)"
      ],
      "metadata": {
        "id": "Ht-twGhczjW2"
      },
      "execution_count": 3,
      "outputs": []
    },
    {
      "cell_type": "code",
      "source": [
        "dataset.head()"
      ],
      "metadata": {
        "colab": {
          "base_uri": "https://localhost:8080/",
          "height": 206
        },
        "id": "0GO0z6awzzZx",
        "outputId": "95c5085a-86af-4842-d4b5-57e29bd1beab"
      },
      "execution_count": 4,
      "outputs": [
        {
          "output_type": "execute_result",
          "data": {
            "text/plain": [
              "   CustomerID  Gender  Age  Annual Income (k$)  Spending Score (1-100)\n",
              "0           1    Male   19                  15                      39\n",
              "1           2    Male   21                  15                      81\n",
              "2           3  Female   20                  16                       6\n",
              "3           4  Female   23                  16                      77\n",
              "4           5  Female   31                  17                      40"
            ],
            "text/html": [
              "\n",
              "  <div id=\"df-c6e547b3-d48c-4d33-b21e-113d227948df\">\n",
              "    <div class=\"colab-df-container\">\n",
              "      <div>\n",
              "<style scoped>\n",
              "    .dataframe tbody tr th:only-of-type {\n",
              "        vertical-align: middle;\n",
              "    }\n",
              "\n",
              "    .dataframe tbody tr th {\n",
              "        vertical-align: top;\n",
              "    }\n",
              "\n",
              "    .dataframe thead th {\n",
              "        text-align: right;\n",
              "    }\n",
              "</style>\n",
              "<table border=\"1\" class=\"dataframe\">\n",
              "  <thead>\n",
              "    <tr style=\"text-align: right;\">\n",
              "      <th></th>\n",
              "      <th>CustomerID</th>\n",
              "      <th>Gender</th>\n",
              "      <th>Age</th>\n",
              "      <th>Annual Income (k$)</th>\n",
              "      <th>Spending Score (1-100)</th>\n",
              "    </tr>\n",
              "  </thead>\n",
              "  <tbody>\n",
              "    <tr>\n",
              "      <th>0</th>\n",
              "      <td>1</td>\n",
              "      <td>Male</td>\n",
              "      <td>19</td>\n",
              "      <td>15</td>\n",
              "      <td>39</td>\n",
              "    </tr>\n",
              "    <tr>\n",
              "      <th>1</th>\n",
              "      <td>2</td>\n",
              "      <td>Male</td>\n",
              "      <td>21</td>\n",
              "      <td>15</td>\n",
              "      <td>81</td>\n",
              "    </tr>\n",
              "    <tr>\n",
              "      <th>2</th>\n",
              "      <td>3</td>\n",
              "      <td>Female</td>\n",
              "      <td>20</td>\n",
              "      <td>16</td>\n",
              "      <td>6</td>\n",
              "    </tr>\n",
              "    <tr>\n",
              "      <th>3</th>\n",
              "      <td>4</td>\n",
              "      <td>Female</td>\n",
              "      <td>23</td>\n",
              "      <td>16</td>\n",
              "      <td>77</td>\n",
              "    </tr>\n",
              "    <tr>\n",
              "      <th>4</th>\n",
              "      <td>5</td>\n",
              "      <td>Female</td>\n",
              "      <td>31</td>\n",
              "      <td>17</td>\n",
              "      <td>40</td>\n",
              "    </tr>\n",
              "  </tbody>\n",
              "</table>\n",
              "</div>\n",
              "      <button class=\"colab-df-convert\" onclick=\"convertToInteractive('df-c6e547b3-d48c-4d33-b21e-113d227948df')\"\n",
              "              title=\"Convert this dataframe to an interactive table.\"\n",
              "              style=\"display:none;\">\n",
              "        \n",
              "  <svg xmlns=\"http://www.w3.org/2000/svg\" height=\"24px\"viewBox=\"0 0 24 24\"\n",
              "       width=\"24px\">\n",
              "    <path d=\"M0 0h24v24H0V0z\" fill=\"none\"/>\n",
              "    <path d=\"M18.56 5.44l.94 2.06.94-2.06 2.06-.94-2.06-.94-.94-2.06-.94 2.06-2.06.94zm-11 1L8.5 8.5l.94-2.06 2.06-.94-2.06-.94L8.5 2.5l-.94 2.06-2.06.94zm10 10l.94 2.06.94-2.06 2.06-.94-2.06-.94-.94-2.06-.94 2.06-2.06.94z\"/><path d=\"M17.41 7.96l-1.37-1.37c-.4-.4-.92-.59-1.43-.59-.52 0-1.04.2-1.43.59L10.3 9.45l-7.72 7.72c-.78.78-.78 2.05 0 2.83L4 21.41c.39.39.9.59 1.41.59.51 0 1.02-.2 1.41-.59l7.78-7.78 2.81-2.81c.8-.78.8-2.07 0-2.86zM5.41 20L4 18.59l7.72-7.72 1.47 1.35L5.41 20z\"/>\n",
              "  </svg>\n",
              "      </button>\n",
              "      \n",
              "  <style>\n",
              "    .colab-df-container {\n",
              "      display:flex;\n",
              "      flex-wrap:wrap;\n",
              "      gap: 12px;\n",
              "    }\n",
              "\n",
              "    .colab-df-convert {\n",
              "      background-color: #E8F0FE;\n",
              "      border: none;\n",
              "      border-radius: 50%;\n",
              "      cursor: pointer;\n",
              "      display: none;\n",
              "      fill: #1967D2;\n",
              "      height: 32px;\n",
              "      padding: 0 0 0 0;\n",
              "      width: 32px;\n",
              "    }\n",
              "\n",
              "    .colab-df-convert:hover {\n",
              "      background-color: #E2EBFA;\n",
              "      box-shadow: 0px 1px 2px rgba(60, 64, 67, 0.3), 0px 1px 3px 1px rgba(60, 64, 67, 0.15);\n",
              "      fill: #174EA6;\n",
              "    }\n",
              "\n",
              "    [theme=dark] .colab-df-convert {\n",
              "      background-color: #3B4455;\n",
              "      fill: #D2E3FC;\n",
              "    }\n",
              "\n",
              "    [theme=dark] .colab-df-convert:hover {\n",
              "      background-color: #434B5C;\n",
              "      box-shadow: 0px 1px 3px 1px rgba(0, 0, 0, 0.15);\n",
              "      filter: drop-shadow(0px 1px 2px rgba(0, 0, 0, 0.3));\n",
              "      fill: #FFFFFF;\n",
              "    }\n",
              "  </style>\n",
              "\n",
              "      <script>\n",
              "        const buttonEl =\n",
              "          document.querySelector('#df-c6e547b3-d48c-4d33-b21e-113d227948df button.colab-df-convert');\n",
              "        buttonEl.style.display =\n",
              "          google.colab.kernel.accessAllowed ? 'block' : 'none';\n",
              "\n",
              "        async function convertToInteractive(key) {\n",
              "          const element = document.querySelector('#df-c6e547b3-d48c-4d33-b21e-113d227948df');\n",
              "          const dataTable =\n",
              "            await google.colab.kernel.invokeFunction('convertToInteractive',\n",
              "                                                     [key], {});\n",
              "          if (!dataTable) return;\n",
              "\n",
              "          const docLinkHtml = 'Like what you see? Visit the ' +\n",
              "            '<a target=\"_blank\" href=https://colab.research.google.com/notebooks/data_table.ipynb>data table notebook</a>'\n",
              "            + ' to learn more about interactive tables.';\n",
              "          element.innerHTML = '';\n",
              "          dataTable['output_type'] = 'display_data';\n",
              "          await google.colab.output.renderOutput(dataTable, element);\n",
              "          const docLink = document.createElement('div');\n",
              "          docLink.innerHTML = docLinkHtml;\n",
              "          element.appendChild(docLink);\n",
              "        }\n",
              "      </script>\n",
              "    </div>\n",
              "  </div>\n",
              "  "
            ]
          },
          "metadata": {},
          "execution_count": 4
        }
      ]
    },
    {
      "cell_type": "markdown",
      "source": [
        "**Univariate Analysis**"
      ],
      "metadata": {
        "id": "3kDMYZiJz_Kh"
      }
    },
    {
      "cell_type": "code",
      "source": [
        "sns.displot(dataset.Age)"
      ],
      "metadata": {
        "colab": {
          "base_uri": "https://localhost:8080/",
          "height": 386
        },
        "id": "aYDOhTQMz6Vf",
        "outputId": "fece216f-b370-4372-f0b5-f3def105c288"
      },
      "execution_count": 6,
      "outputs": [
        {
          "output_type": "execute_result",
          "data": {
            "text/plain": [
              "<seaborn.axisgrid.FacetGrid at 0x7f761d3bed90>"
            ]
          },
          "metadata": {},
          "execution_count": 6
        },
        {
          "output_type": "display_data",
          "data": {
            "text/plain": [
              "<Figure size 360x360 with 1 Axes>"
            ],
            "image/png": "[encoded data removed]"
          },
          "metadata": {
            "needs_background": "light"
          }
        }
      ]
    },
    {
      "cell_type": "markdown",
      "source": [
        "**Bi - Variate Analysis**"
      ],
      "metadata": {
        "id": "6WRGYpQW0rTM"
      }
    },
    {
      "cell_type": "code",
      "source": [
        "sns.scatterplot(dataset.Gender,dataset.Age)"
      ],
      "metadata": {
        "colab": {
          "base_uri": "https://localhost:8080/",
          "height": 296
        },
        "id": "0RYplfys0jRA",
        "outputId": "503e5191-90d8-45c2-d80d-d5624ae2fcf9"
      },
      "execution_count": 7,
      "outputs": [
        {
          "output_type": "execute_result",
          "data": {
            "text/plain": [
              "<matplotlib.axes._subplots.AxesSubplot at 0x7f7619f67790>"
            ]
          },
          "metadata": {},
          "execution_count": 7
        },
        {
          "output_type": "display_data",
          "data": {
            "text/plain": [
              "<Figure size 432x288 with 1 Axes>"
            ],
            "image/png": "[encoded data removed]"
          },
          "metadata": {
            "needs_background": "light"
          }
        }
      ]
    },
    {
      "cell_type": "markdown",
      "source": [
        "**Multi - Variate Analysis**"
      ],
      "metadata": {
        "id": "3rMLks4q1vru"
      }
    },
    {
      "cell_type": "code",
      "source": [
        "sns.pairplot(dataset)"
      ],
      "metadata": {
        "colab": {
          "base_uri": "https://localhost:8080/",
          "height": 743
        },
        "id": "h92OkQWv10g5",
        "outputId": "25eb9290-7a53-4724-9f73-68d02e3c06cc"
      },
      "execution_count": 8,
      "outputs": [
        {
          "output_type": "execute_result",
          "data": {
            "text/plain": [
              "<seaborn.axisgrid.PairGrid at 0x7f7619a88a50>"
            ]
          },
          "metadata": {},
          "execution_count": 8
        },
        {
          "output_type": "display_data",
          "data": {
            "text/plain": [
              "<Figure size 720x720 with 20 Axes>"
            ],
            "image/png": "[encoded data removed]"
          },
          "metadata": {
            "needs_background": "light"
          }
        }
      ]
    },
    {
      "cell_type": "markdown",
      "source": [
        "**4)Perform descriptive statistics on the dataset.**"
      ],
      "metadata": {
        "id": "cEioMVm-2Dki"
      }
    },
    {
      "cell_type": "code",
      "source": [
        "dataset.describe()"
      ],
      "metadata": {
        "colab": {
          "base_uri": "https://localhost:8080/",
          "height": 300
        },
        "id": "JmPG-APW2IQ6",
        "outputId": "f1c1d87d-56d7-40e7-d202-0b2fb8a06b0f"
      },
      "execution_count": 9,
      "outputs": [
        {
          "output_type": "execute_result",
          "data": {
            "text/plain": [
              "       CustomerID         Age  Annual Income (k$)  Spending Score (1-100)\n",
              "count  200.000000  200.000000          200.000000              200.000000\n",
              "mean   100.500000   38.850000           60.560000               50.200000\n",
              "std     57.879185   13.969007           26.264721               25.823522\n",
              "min      1.000000   18.000000           15.000000                1.000000\n",
              "25%     50.750000   28.750000           41.500000               34.750000\n",
              "50%    100.500000   36.000000           61.500000               50.000000\n",
              "75%    150.250000   49.000000           78.000000               73.000000\n",
              "max    200.000000   70.000000          137.000000               99.000000"
            ],
            "text/html": [
              "\n",
              "  <div id=\"df-df7145d1-7a8c-4e1a-a6f6-c601d691ff7f\">\n",
              "    <div class=\"colab-df-container\">\n",
              "      <div>\n",
              "<style scoped>\n",
              "    .dataframe tbody tr th:only-of-type {\n",
              "        vertical-align: middle;\n",
              "    }\n",
              "\n",
              "    .dataframe tbody tr th {\n",
              "        vertical-align: top;\n",
              "    }\n",
              "\n",
              "    .dataframe thead th {\n",
              "        text-align: right;\n",
              "    }\n",
              "</style>\n",
              "<table border=\"1\" class=\"dataframe\">\n",
              "  <thead>\n",
              "    <tr style=\"text-align: right;\">\n",
              "      <th></th>\n",
              "      <th>CustomerID</th>\n",
              "      <th>Age</th>\n",
              "      <th>Annual Income (k$)</th>\n",
              "      <th>Spending Score (1-100)</th>\n",
              "    </tr>\n",
              "  </thead>\n",
              "  <tbody>\n",
              "    <tr>\n",
              "      <th>count</th>\n",
              "      <td>200.000000</td>\n",
              "      <td>200.000000</td>\n",
              "      <td>200.000000</td>\n",
              "      <td>200.000000</td>\n",
              "    </tr>\n",
              "    <tr>\n",
              "      <th>mean</th>\n",
              "      <td>100.500000</td>\n",
              "      <td>38.850000</td>\n",
              "      <td>60.560000</td>\n",
              "      <td>50.200000</td>\n",
              "    </tr>\n",
              "    <tr>\n",
              "      <th>std</th>\n",
              "      <td>57.879185</td>\n",
              "      <td>13.969007</td>\n",
              "      <td>26.264721</td>\n",
              "      <td>25.823522</td>\n",
              "    </tr>\n",
              "    <tr>\n",
              "      <th>min</th>\n",
              "      <td>1.000000</td>\n",
              "      <td>18.000000</td>\n",
              "      <td>15.000000</td>\n",
              "      <td>1.000000</td>\n",
              "    </tr>\n",
              "    <tr>\n",
              "      <th>25%</th>\n",
              "      <td>50.750000</td>\n",
              "      <td>28.750000</td>\n",
              "      <td>41.500000</td>\n",
              "      <td>34.750000</td>\n",
              "    </tr>\n",
              "    <tr>\n",
              "      <th>50%</th>\n",
              "      <td>100.500000</td>\n",
              "      <td>36.000000</td>\n",
              "      <td>61.500000</td>\n",
              "      <td>50.000000</td>\n",
              "    </tr>\n",
              "    <tr>\n",
              "      <th>75%</th>\n",
              "      <td>150.250000</td>\n",
              "      <td>49.000000</td>\n",
              "      <td>78.000000</td>\n",
              "      <td>73.000000</td>\n",
              "    </tr>\n",
              "    <tr>\n",
              "      <th>max</th>\n",
              "      <td>200.000000</td>\n",
              "      <td>70.000000</td>\n",
              "      <td>137.000000</td>\n",
              "      <td>99.000000</td>\n",
              "    </tr>\n",
              "  </tbody>\n",
              "</table>\n",
              "</div>\n",
              "      <button class=\"colab-df-convert\" onclick=\"convertToInteractive('df-df7145d1-7a8c-4e1a-a6f6-c601d691ff7f')\"\n",
              "              title=\"Convert this dataframe to an interactive table.\"\n",
              "              style=\"display:none;\">\n",
              "        \n",
              "  <svg xmlns=\"http://www.w3.org/2000/svg\" height=\"24px\"viewBox=\"0 0 24 24\"\n",
              "       width=\"24px\">\n",
              "    <path d=\"M0 0h24v24H0V0z\" fill=\"none\"/>\n",
              "    <path d=\"M18.56 5.44l.94 2.06.94-2.06 2.06-.94-2.06-.94-.94-2.06-.94 2.06-2.06.94zm-11 1L8.5 8.5l.94-2.06 2.06-.94-2.06-.94L8.5 2.5l-.94 2.06-2.06.94zm10 10l.94 2.06.94-2.06 2.06-.94-2.06-.94-.94-2.06-.94 2.06-2.06.94z\"/><path d=\"M17.41 7.96l-1.37-1.37c-.4-.4-.92-.59-1.43-.59-.52 0-1.04.2-1.43.59L10.3 9.45l-7.72 7.72c-.78.78-.78 2.05 0 2.83L4 21.41c.39.39.9.59 1.41.59.51 0 1.02-.2 1.41-.59l7.78-7.78 2.81-2.81c.8-.78.8-2.07 0-2.86zM5.41 20L4 18.59l7.72-7.72 1.47 1.35L5.41 20z\"/>\n",
              "  </svg>\n",
              "      </button>\n",
              "      \n",
              "  <style>\n",
              "    .colab-df-container {\n",
              "      display:flex;\n",
              "      flex-wrap:wrap;\n",
              "      gap: 12px;\n",
              "    }\n",
              "\n",
              "    .colab-df-convert {\n",
              "      background-color: #E8F0FE;\n",
              "      border: none;\n",
              "      border-radius: 50%;\n",
              "      cursor: pointer;\n",
              "      display: none;\n",
              "      fill: #1967D2;\n",
              "      height: 32px;\n",
              "      padding: 0 0 0 0;\n",
              "      width: 32px;\n",
              "    }\n",
              "\n",
              "    .colab-df-convert:hover {\n",
              "      background-color: #E2EBFA;\n",
              "      box-shadow: 0px 1px 2px rgba(60, 64, 67, 0.3), 0px 1px 3px 1px rgba(60, 64, 67, 0.15);\n",
              "      fill: #174EA6;\n",
              "    }\n",
              "\n",
              "    [theme=dark] .colab-df-convert {\n",
              "      background-color: #3B4455;\n",
              "      fill: #D2E3FC;\n",
              "    }\n",
              "\n",
              "    [theme=dark] .colab-df-convert:hover {\n",
              "      background-color: #434B5C;\n",
              "      box-shadow: 0px 1px 3px 1px rgba(0, 0, 0, 0.15);\n",
              "      filter: drop-shadow(0px 1px 2px rgba(0, 0, 0, 0.3));\n",
              "      fill: #FFFFFF;\n",
              "    }\n",
              "  </style>\n",
              "\n",
              "      <script>\n",
              "        const buttonEl =\n",
              "          document.querySelector('#df-df7145d1-7a8c-4e1a-a6f6-c601d691ff7f button.colab-df-convert');\n",
              "        buttonEl.style.display =\n",
              "          google.colab.kernel.accessAllowed ? 'block' : 'none';\n",
              "\n",
              "        async function convertToInteractive(key) {\n",
              "          const element = document.querySelector('#df-df7145d1-7a8c-4e1a-a6f6-c601d691ff7f');\n",
              "          const dataTable =\n",
              "            await google.colab.kernel.invokeFunction('convertToInteractive',\n",
              "                                                     [key], {});\n",
              "          if (!dataTable) return;\n",
              "\n",
              "          const docLinkHtml = 'Like what you see? Visit the ' +\n",
              "            '<a target=\"_blank\" href=https://colab.research.google.com/notebooks/data_table.ipynb>data table notebook</a>'\n",
              "            + ' to learn more about interactive tables.';\n",
              "          element.innerHTML = '';\n",
              "          dataTable['output_type'] = 'display_data';\n",
              "          await google.colab.output.renderOutput(dataTable, element);\n",
              "          const docLink = document.createElement('div');\n",
              "          docLink.innerHTML = docLinkHtml;\n",
              "          element.appendChild(docLink);\n",
              "        }\n",
              "      </script>\n",
              "    </div>\n",
              "  </div>\n",
              "  "
            ]
          },
          "metadata": {},
          "execution_count": 9
        }
      ]
    },
    {
      "cell_type": "markdown",
      "source": [
        "**5)Check for Missing values and deal with them**"
      ],
      "metadata": {
        "id": "ivdUkt262NfX"
      }
    },
    {
      "cell_type": "code",
      "source": [
        "dataset.isna().sum()"
      ],
      "metadata": {
        "colab": {
          "base_uri": "https://localhost:8080/"
        },
        "id": "jwK5TC8i2R3E",
        "outputId": "11390cb2-337c-43fe-f1d5-f8af42687afb"
      },
      "execution_count": 10,
      "outputs": [
        {
          "output_type": "execute_result",
          "data": {
            "text/plain": [
              "CustomerID                0\n",
              "Gender                    0\n",
              "Age                       0\n",
              "Annual Income (k$)        0\n",
              "Spending Score (1-100)    0\n",
              "dtype: int64"
            ]
          },
          "metadata": {},
          "execution_count": 10
        }
      ]
    },
    {
      "cell_type": "code",
      "source": [
        "dataset.corr()"
      ],
      "metadata": {
        "colab": {
          "base_uri": "https://localhost:8080/",
          "height": 206
        },
        "id": "lKrtb4J7rKT1",
        "outputId": "20d4183c-1c6b-4bea-c51e-c7d676bba01e"
      },
      "execution_count": 35,
      "outputs": [
        {
          "output_type": "execute_result",
          "data": {
            "text/plain": [
              "                        CustomerID    Gender       Age  Annual Income (k$)  \\\n",
              "CustomerID                1.000000  0.057400 -0.026763            0.977548   \n",
              "Gender                    0.057400  1.000000  0.060867            0.056410   \n",
              "Age                      -0.026763  0.060867  1.000000           -0.012398   \n",
              "Annual Income (k$)        0.977548  0.056410 -0.012398            1.000000   \n",
              "Spending Score (1-100)    0.013835 -0.058109 -0.327227            0.009903   \n",
              "\n",
              "                        Spending Score (1-100)  \n",
              "CustomerID                            0.013835  \n",
              "Gender                               -0.058109  \n",
              "Age                                  -0.327227  \n",
              "Annual Income (k$)                    0.009903  \n",
              "Spending Score (1-100)                1.000000  "
            ],
            "text/html": [
              "\n",
              "  <div id=\"df-fd751cb0-86c7-43ae-8066-1f357598cf10\">\n",
              "    <div class=\"colab-df-container\">\n",
              "      <div>\n",
              "<style scoped>\n",
              "    .dataframe tbody tr th:only-of-type {\n",
              "        vertical-align: middle;\n",
              "    }\n",
              "\n",
              "    .dataframe tbody tr th {\n",
              "        vertical-align: top;\n",
              "    }\n",
              "\n",
              "    .dataframe thead th {\n",
              "        text-align: right;\n",
              "    }\n",
              "</style>\n",
              "<table border=\"1\" class=\"dataframe\">\n",
              "  <thead>\n",
              "    <tr style=\"text-align: right;\">\n",
              "      <th></th>\n",
              "      <th>CustomerID</th>\n",
              "      <th>Gender</th>\n",
              "      <th>Age</th>\n",
              "      <th>Annual Income (k$)</th>\n",
              "      <th>Spending Score (1-100)</th>\n",
              "    </tr>\n",
              "  </thead>\n",
              "  <tbody>\n",
              "    <tr>\n",
              "      <th>CustomerID</th>\n",
              "      <td>1.000000</td>\n",
              "      <td>0.057400</td>\n",
              "      <td>-0.026763</td>\n",
              "      <td>0.977548</td>\n",
              "      <td>0.013835</td>\n",
              "    </tr>\n",
              "    <tr>\n",
              "      <th>Gender</th>\n",
              "      <td>0.057400</td>\n",
              "      <td>1.000000</td>\n",
              "      <td>0.060867</td>\n",
              "      <td>0.056410</td>\n",
              "      <td>-0.058109</td>\n",
              "    </tr>\n",
              "    <tr>\n",
              "      <th>Age</th>\n",
              "      <td>-0.026763</td>\n",
              "      <td>0.060867</td>\n",
              "      <td>1.000000</td>\n",
              "      <td>-0.012398</td>\n",
              "      <td>-0.327227</td>\n",
              "    </tr>\n",
              "    <tr>\n",
              "      <th>Annual Income (k$)</th>\n",
              "      <td>0.977548</td>\n",
              "      <td>0.056410</td>\n",
              "      <td>-0.012398</td>\n",
              "      <td>1.000000</td>\n",
              "      <td>0.009903</td>\n",
              "    </tr>\n",
              "    <tr>\n",
              "      <th>Spending Score (1-100)</th>\n",
              "      <td>0.013835</td>\n",
              "      <td>-0.058109</td>\n",
              "      <td>-0.327227</td>\n",
              "      <td>0.009903</td>\n",
              "      <td>1.000000</td>\n",
              "    </tr>\n",
              "  </tbody>\n",
              "</table>\n",
              "</div>\n",
              "      <button class=\"colab-df-convert\" onclick=\"convertToInteractive('df-fd751cb0-86c7-43ae-8066-1f357598cf10')\"\n",
              "              title=\"Convert this dataframe to an interactive table.\"\n",
              "              style=\"display:none;\">\n",
              "        \n",
              "  <svg xmlns=\"http://www.w3.org/2000/svg\" height=\"24px\"viewBox=\"0 0 24 24\"\n",
              "       width=\"24px\">\n",
              "    <path d=\"M0 0h24v24H0V0z\" fill=\"none\"/>\n",
              "    <path d=\"M18.56 5.44l.94 2.06.94-2.06 2.06-.94-2.06-.94-.94-2.06-.94 2.06-2.06.94zm-11 1L8.5 8.5l.94-2.06 2.06-.94-2.06-.94L8.5 2.5l-.94 2.06-2.06.94zm10 10l.94 2.06.94-2.06 2.06-.94-2.06-.94-.94-2.06-.94 2.06-2.06.94z\"/><path d=\"M17.41 7.96l-1.37-1.37c-.4-.4-.92-.59-1.43-.59-.52 0-1.04.2-1.43.59L10.3 9.45l-7.72 7.72c-.78.78-.78 2.05 0 2.83L4 21.41c.39.39.9.59 1.41.59.51 0 1.02-.2 1.41-.59l7.78-7.78 2.81-2.81c.8-.78.8-2.07 0-2.86zM5.41 20L4 18.59l7.72-7.72 1.47 1.35L5.41 20z\"/>\n",
              "  </svg>\n",
              "      </button>\n",
              "      \n",
              "  <style>\n",
              "    .colab-df-container {\n",
              "      display:flex;\n",
              "      flex-wrap:wrap;\n",
              "      gap: 12px;\n",
              "    }\n",
              "\n",
              "    .colab-df-convert {\n",
              "      background-color: #E8F0FE;\n",
              "      border: none;\n",
              "      border-radius: 50%;\n",
              "      cursor: pointer;\n",
              "      display: none;\n",
              "      fill: #1967D2;\n",
              "      height: 32px;\n",
              "      padding: 0 0 0 0;\n",
              "      width: 32px;\n",
              "    }\n",
              "\n",
              "    .colab-df-convert:hover {\n",
              "      background-color: #E2EBFA;\n",
              "      box-shadow: 0px 1px 2px rgba(60, 64, 67, 0.3), 0px 1px 3px 1px rgba(60, 64, 67, 0.15);\n",
              "      fill: #174EA6;\n",
              "    }\n",
              "\n",
              "    [theme=dark] .colab-df-convert {\n",
              "      background-color: #3B4455;\n",
              "      fill: #D2E3FC;\n",
              "    }\n",
              "\n",
              "    [theme=dark] .colab-df-convert:hover {\n",
              "      background-color: #434B5C;\n",
              "      box-shadow: 0px 1px 3px 1px rgba(0, 0, 0, 0.15);\n",
              "      filter: drop-shadow(0px 1px 2px rgba(0, 0, 0, 0.3));\n",
              "      fill: #FFFFFF;\n",
              "    }\n",
              "  </style>\n",
              "\n",
              "      <script>\n",
              "        const buttonEl =\n",
              "          document.querySelector('#df-fd751cb0-86c7-43ae-8066-1f357598cf10 button.colab-df-convert');\n",
              "        buttonEl.style.display =\n",
              "          google.colab.kernel.accessAllowed ? 'block' : 'none';\n",
              "\n",
              "        async function convertToInteractive(key) {\n",
              "          const element = document.querySelector('#df-fd751cb0-86c7-43ae-8066-1f357598cf10');\n",
              "          const dataTable =\n",
              "            await google.colab.kernel.invokeFunction('convertToInteractive',\n",
              "                                                     [key], {});\n",
              "          if (!dataTable) return;\n",
              "\n",
              "          const docLinkHtml = 'Like what you see? Visit the ' +\n",
              "            '<a target=\"_blank\" href=https://colab.research.google.com/notebooks/data_table.ipynb>data table notebook</a>'\n",
              "            + ' to learn more about interactive tables.';\n",
              "          element.innerHTML = '';\n",
              "          dataTable['output_type'] = 'display_data';\n",
              "          await google.colab.output.renderOutput(dataTable, element);\n",
              "          const docLink = document.createElement('div');\n",
              "          docLink.innerHTML = docLinkHtml;\n",
              "          element.appendChild(docLink);\n",
              "        }\n",
              "      </script>\n",
              "    </div>\n",
              "  </div>\n",
              "  "
            ]
          },
          "metadata": {},
          "execution_count": 35
        }
      ]
    },
    {
      "cell_type": "code",
      "source": [
        "sns.heatmap(dataset.corr(),annot=True)"
      ],
      "metadata": {
        "colab": {
          "base_uri": "https://localhost:8080/",
          "height": 394
        },
        "id": "Fl5XvbohrPUN",
        "outputId": "0d6147f7-7528-4740-d4c3-6b2aff64029b"
      },
      "execution_count": 36,
      "outputs": [
        {
          "output_type": "execute_result",
          "data": {
            "text/plain": [
              "<matplotlib.axes._subplots.AxesSubplot at 0x7f7616d81750>"
            ]
          },
          "metadata": {},
          "execution_count": 36
        },
        {
          "output_type": "display_data",
          "data": {
            "text/plain": [
              "<Figure size 432x288 with 2 Axes>"
            ],
            "image/png": "[encoded data removed]"
          },
          "metadata": {
            "needs_background": "light"
          }
        }
      ]
    },
    {
      "cell_type": "markdown",
      "source": [
        "**6)Find the outliers and replace them outliers.**"
      ],
      "metadata": {
        "id": "V1Lak2rg2WrD"
      }
    },
    {
      "cell_type": "code",
      "source": [
        "sns.boxplot(dataset['Annual Income (k$)'])"
      ],
      "metadata": {
        "colab": {
          "base_uri": "https://localhost:8080/",
          "height": 296
        },
        "id": "SxbV0uz32aVv",
        "outputId": "2c87dfea-c341-42cb-cfc2-d155a5529d69"
      },
      "execution_count": 13,
      "outputs": [
        {
          "output_type": "execute_result",
          "data": {
            "text/plain": [
              "<matplotlib.axes._subplots.AxesSubplot at 0x7f7617af3750>"
            ]
          },
          "metadata": {},
          "execution_count": 13
        },
        {
          "output_type": "display_data",
          "data": {
            "text/plain": [
              "<Figure size 432x288 with 1 Axes>"
            ],
            "image/png": "[encoded data removed]"
          },
          "metadata": {
            "needs_background": "light"
          }
        }
      ]
    },
    {
      "cell_type": "markdown",
      "source": [
        "**7)Check for Categorical columns and perform encoding.**"
      ],
      "metadata": {
        "id": "fvURFho72eQE"
      }
    },
    {
      "cell_type": "code",
      "source": [
        "dataset['Gender'].replace({'Male':1,'Female':0},inplace=True)\n",
        "dataset"
      ],
      "metadata": {
        "colab": {
          "base_uri": "https://localhost:8080/",
          "height": 424
        },
        "id": "H1DEqDSr2imI",
        "outputId": "1bd6c59e-1829-4210-d5b3-c4d0717cf3d3"
      },
      "execution_count": 15,
      "outputs": [
        {
          "output_type": "execute_result",
          "data": {
            "text/plain": [
              "     CustomerID  Gender  Age  Annual Income (k$)  Spending Score (1-100)\n",
              "0             1       1   19                  15                      39\n",
              "1             2       1   21                  15                      81\n",
              "2             3       0   20                  16                       6\n",
              "3             4       0   23                  16                      77\n",
              "4             5       0   31                  17                      40\n",
              "..          ...     ...  ...                 ...                     ...\n",
              "195         196       0   35                 120                      79\n",
              "196         197       0   45                 126                      28\n",
              "197         198       1   32                 126                      74\n",
              "198         199       1   32                 137                      18\n",
              "199         200       1   30                 137                      83\n",
              "\n",
              "[200 rows x 5 columns]"
            ],
            "text/html": [
              "\n",
              "  <div id=\"df-54f7bb01-b97c-47b6-8056-81289ab82c73\">\n",
              "    <div class=\"colab-df-container\">\n",
              "      <div>\n",
              "<style scoped>\n",
              "    .dataframe tbody tr th:only-of-type {\n",
              "        vertical-align: middle;\n",
              "    }\n",
              "\n",
              "    .dataframe tbody tr th {\n",
              "        vertical-align: top;\n",
              "    }\n",
              "\n",
              "    .dataframe thead th {\n",
              "        text-align: right;\n",
              "    }\n",
              "</style>\n",
              "<table border=\"1\" class=\"dataframe\">\n",
              "  <thead>\n",
              "    <tr style=\"text-align: right;\">\n",
              "      <th></th>\n",
              "      <th>CustomerID</th>\n",
              "      <th>Gender</th>\n",
              "      <th>Age</th>\n",
              "      <th>Annual Income (k$)</th>\n",
              "      <th>Spending Score (1-100)</th>\n",
              "    </tr>\n",
              "  </thead>\n",
              "  <tbody>\n",
              "    <tr>\n",
              "      <th>0</th>\n",
              "      <td>1</td>\n",
              "      <td>1</td>\n",
              "      <td>19</td>\n",
              "      <td>15</td>\n",
              "      <td>39</td>\n",
              "    </tr>\n",
              "    <tr>\n",
              "      <th>1</th>\n",
              "      <td>2</td>\n",
              "      <td>1</td>\n",
              "      <td>21</td>\n",
              "      <td>15</td>\n",
              "      <td>81</td>\n",
              "    </tr>\n",
              "    <tr>\n",
              "      <th>2</th>\n",
              "      <td>3</td>\n",
              "      <td>0</td>\n",
              "      <td>20</td>\n",
              "      <td>16</td>\n",
              "      <td>6</td>\n",
              "    </tr>\n",
              "    <tr>\n",
              "      <th>3</th>\n",
              "      <td>4</td>\n",
              "      <td>0</td>\n",
              "      <td>23</td>\n",
              "      <td>16</td>\n",
              "      <td>77</td>\n",
              "    </tr>\n",
              "    <tr>\n",
              "      <th>4</th>\n",
              "      <td>5</td>\n",
              "      <td>0</td>\n",
              "      <td>31</td>\n",
              "      <td>17</td>\n",
              "      <td>40</td>\n",
              "    </tr>\n",
              "    <tr>\n",
              "      <th>...</th>\n",
              "      <td>...</td>\n",
              "      <td>...</td>\n",
              "      <td>...</td>\n",
              "      <td>...</td>\n",
              "      <td>...</td>\n",
              "    </tr>\n",
              "    <tr>\n",
              "      <th>195</th>\n",
              "      <td>196</td>\n",
              "      <td>0</td>\n",
              "      <td>35</td>\n",
              "      <td>120</td>\n",
              "      <td>79</td>\n",
              "    </tr>\n",
              "    <tr>\n",
              "      <th>196</th>\n",
              "      <td>197</td>\n",
              "      <td>0</td>\n",
              "      <td>45</td>\n",
              "      <td>126</td>\n",
              "      <td>28</td>\n",
              "    </tr>\n",
              "    <tr>\n",
              "      <th>197</th>\n",
              "      <td>198</td>\n",
              "      <td>1</td>\n",
              "      <td>32</td>\n",
              "      <td>126</td>\n",
              "      <td>74</td>\n",
              "    </tr>\n",
              "    <tr>\n",
              "      <th>198</th>\n",
              "      <td>199</td>\n",
              "      <td>1</td>\n",
              "      <td>32</td>\n",
              "      <td>137</td>\n",
              "      <td>18</td>\n",
              "    </tr>\n",
              "    <tr>\n",
              "      <th>199</th>\n",
              "      <td>200</td>\n",
              "      <td>1</td>\n",
              "      <td>30</td>\n",
              "      <td>137</td>\n",
              "      <td>83</td>\n",
              "    </tr>\n",
              "  </tbody>\n",
              "</table>\n",
              "<p>200 rows × 5 columns</p>\n",
              "</div>\n",
              "      <button class=\"colab-df-convert\" onclick=\"convertToInteractive('df-54f7bb01-b97c-47b6-8056-81289ab82c73')\"\n",
              "              title=\"Convert this dataframe to an interactive table.\"\n",
              "              style=\"display:none;\">\n",
              "        \n",
              "  <svg xmlns=\"http://www.w3.org/2000/svg\" height=\"24px\"viewBox=\"0 0 24 24\"\n",
              "       width=\"24px\">\n",
              "    <path d=\"M0 0h24v24H0V0z\" fill=\"none\"/>\n",
              "    <path d=\"M18.56 5.44l.94 2.06.94-2.06 2.06-.94-2.06-.94-.94-2.06-.94 2.06-2.06.94zm-11 1L8.5 8.5l.94-2.06 2.06-.94-2.06-.94L8.5 2.5l-.94 2.06-2.06.94zm10 10l.94 2.06.94-2.06 2.06-.94-2.06-.94-.94-2.06-.94 2.06-2.06.94z\"/><path d=\"M17.41 7.96l-1.37-1.37c-.4-.4-.92-.59-1.43-.59-.52 0-1.04.2-1.43.59L10.3 9.45l-7.72 7.72c-.78.78-.78 2.05 0 2.83L4 21.41c.39.39.9.59 1.41.59.51 0 1.02-.2 1.41-.59l7.78-7.78 2.81-2.81c.8-.78.8-2.07 0-2.86zM5.41 20L4 18.59l7.72-7.72 1.47 1.35L5.41 20z\"/>\n",
              "  </svg>\n",
              "      </button>\n",
              "      \n",
              "  <style>\n",
              "    .colab-df-container {\n",
              "      display:flex;\n",
              "      flex-wrap:wrap;\n",
              "      gap: 12px;\n",
              "    }\n",
              "\n",
              "    .colab-df-convert {\n",
              "      background-color: #E8F0FE;\n",
              "      border: none;\n",
              "      border-radius: 50%;\n",
              "      cursor: pointer;\n",
              "      display: none;\n",
              "      fill: #1967D2;\n",
              "      height: 32px;\n",
              "      padding: 0 0 0 0;\n",
              "      width: 32px;\n",
              "    }\n",
              "\n",
              "    .colab-df-convert:hover {\n",
              "      background-color: #E2EBFA;\n",
              "      box-shadow: 0px 1px 2px rgba(60, 64, 67, 0.3), 0px 1px 3px 1px rgba(60, 64, 67, 0.15);\n",
              "      fill: #174EA6;\n",
              "    }\n",
              "\n",
              "    [theme=dark] .colab-df-convert {\n",
              "      background-color: #3B4455;\n",
              "      fill: #D2E3FC;\n",
              "    }\n",
              "\n",
              "    [theme=dark] .colab-df-convert:hover {\n",
              "      background-color: #434B5C;\n",
              "      box-shadow: 0px 1px 3px 1px rgba(0, 0, 0, 0.15);\n",
              "      filter: drop-shadow(0px 1px 2px rgba(0, 0, 0, 0.3));\n",
              "      fill: #FFFFFF;\n",
              "    }\n",
              "  </style>\n",
              "\n",
              "      <script>\n",
              "        const buttonEl =\n",
              "          document.querySelector('#df-54f7bb01-b97c-47b6-8056-81289ab82c73 button.colab-df-convert');\n",
              "        buttonEl.style.display =\n",
              "          google.colab.kernel.accessAllowed ? 'block' : 'none';\n",
              "\n",
              "        async function convertToInteractive(key) {\n",
              "          const element = document.querySelector('#df-54f7bb01-b97c-47b6-8056-81289ab82c73');\n",
              "          const dataTable =\n",
              "            await google.colab.kernel.invokeFunction('convertToInteractive',\n",
              "                                                     [key], {});\n",
              "          if (!dataTable) return;\n",
              "\n",
              "          const docLinkHtml = 'Like what you see? Visit the ' +\n",
              "            '<a target=\"_blank\" href=https://colab.research.google.com/notebooks/data_table.ipynb>data table notebook</a>'\n",
              "            + ' to learn more about interactive tables.';\n",
              "          element.innerHTML = '';\n",
              "          dataTable['output_type'] = 'display_data';\n",
              "          await google.colab.output.renderOutput(dataTable, element);\n",
              "          const docLink = document.createElement('div');\n",
              "          docLink.innerHTML = docLinkHtml;\n",
              "          element.appendChild(docLink);\n",
              "        }\n",
              "      </script>\n",
              "    </div>\n",
              "  </div>\n",
              "  "
            ]
          },
          "metadata": {},
          "execution_count": 15
        }
      ]
    },
    {
      "cell_type": "markdown",
      "source": [
        "**8)Split the data into dependent and independent variables.**"
      ],
      "metadata": {
        "id": "9j-j7w8I2qqr"
      }
    },
    {
      "cell_type": "code",
      "source": [
        "x=dataset.drop(columns=['Spending Score (1-100)'],axis=1)\n",
        "print(x)"
      ],
      "metadata": {
        "colab": {
          "base_uri": "https://localhost:8080/"
        },
        "id": "-q6e5esp2vBV",
        "outputId": "e71296fe-4020-4d5e-edbc-e161927df3de"
      },
      "execution_count": 17,
      "outputs": [
        {
          "output_type": "stream",
          "name": "stdout",
          "text": [
            "     CustomerID  Gender  Age  Annual Income (k$)\n",
            "0             1       1   19                  15\n",
            "1             2       1   21                  15\n",
            "2             3       0   20                  16\n",
            "3             4       0   23                  16\n",
            "4             5       0   31                  17\n",
            "..          ...     ...  ...                 ...\n",
            "195         196       0   35                 120\n",
            "196         197       0   45                 126\n",
            "197         198       1   32                 126\n",
            "198         199       1   32                 137\n",
            "199         200       1   30                 137\n",
            "\n",
            "[200 rows x 4 columns]\n"
          ]
        }
      ]
    },
    {
      "cell_type": "code",
      "source": [
        "y=dataset['Spending Score (1-100)']\n",
        "print(y)"
      ],
      "metadata": {
        "colab": {
          "base_uri": "https://localhost:8080/"
        },
        "id": "8gwyllYV20m9",
        "outputId": "3809dffc-7c67-4828-ea35-2f5d8735123e"
      },
      "execution_count": 18,
      "outputs": [
        {
          "output_type": "stream",
          "name": "stdout",
          "text": [
            "0      39\n",
            "1      81\n",
            "2       6\n",
            "3      77\n",
            "4      40\n",
            "       ..\n",
            "195    79\n",
            "196    28\n",
            "197    74\n",
            "198    18\n",
            "199    83\n",
            "Name: Spending Score (1-100), Length: 200, dtype: int64\n"
          ]
        }
      ]
    },
    {
      "cell_type": "markdown",
      "source": [
        "**9)Scale the independent variables**"
      ],
      "metadata": {
        "id": "MGK6_uWE24or"
      }
    },
    {
      "cell_type": "code",
      "source": [
        "x=dataset.drop(columns=['Gender','Age'])\n",
        "print(x)"
      ],
      "metadata": {
        "colab": {
          "base_uri": "https://localhost:8080/"
        },
        "id": "q-ATHHlo276w",
        "outputId": "64bddf9a-6ee5-4511-a133-8a85c4dcfa1d"
      },
      "execution_count": 19,
      "outputs": [
        {
          "output_type": "stream",
          "name": "stdout",
          "text": [
            "     CustomerID  Annual Income (k$)  Spending Score (1-100)\n",
            "0             1                  15                      39\n",
            "1             2                  15                      81\n",
            "2             3                  16                       6\n",
            "3             4                  16                      77\n",
            "4             5                  17                      40\n",
            "..          ...                 ...                     ...\n",
            "195         196                 120                      79\n",
            "196         197                 126                      28\n",
            "197         198                 126                      74\n",
            "198         199                 137                      18\n",
            "199         200                 137                      83\n",
            "\n",
            "[200 rows x 3 columns]\n"
          ]
        }
      ]
    },
    {
      "cell_type": "code",
      "source": [
        "x=scale(x)\n",
        "print(x)"
      ],
      "metadata": {
        "colab": {
          "base_uri": "https://localhost:8080/"
        },
        "id": "Rj8IvnZv3Dvc",
        "outputId": "2eb2d710-af5c-4f24-b5b6-f6b2b7605e84"
      },
      "execution_count": 20,
      "outputs": [
        {
          "output_type": "stream",
          "name": "stdout",
          "text": [
            "[[-1.7234121  -1.73899919 -0.43480148]\n",
            " [-1.70609137 -1.73899919  1.19570407]\n",
            " [-1.68877065 -1.70082976 -1.71591298]\n",
            " [-1.67144992 -1.70082976  1.04041783]\n",
            " [-1.6541292  -1.66266033 -0.39597992]\n",
            " [-1.63680847 -1.66266033  1.00159627]\n",
            " [-1.61948775 -1.62449091 -1.71591298]\n",
            " [-1.60216702 -1.62449091  1.70038436]\n",
            " [-1.5848463  -1.58632148 -1.83237767]\n",
            " [-1.56752558 -1.58632148  0.84631002]\n",
            " [-1.55020485 -1.58632148 -1.4053405 ]\n",
            " [-1.53288413 -1.58632148  1.89449216]\n",
            " [-1.5155634  -1.54815205 -1.36651894]\n",
            " [-1.49824268 -1.54815205  1.04041783]\n",
            " [-1.48092195 -1.54815205 -1.44416206]\n",
            " [-1.46360123 -1.54815205  1.11806095]\n",
            " [-1.4462805  -1.50998262 -0.59008772]\n",
            " [-1.42895978 -1.50998262  0.61338066]\n",
            " [-1.41163905 -1.43364376 -0.82301709]\n",
            " [-1.39431833 -1.43364376  1.8556706 ]\n",
            " [-1.3769976  -1.39547433 -0.59008772]\n",
            " [-1.35967688 -1.39547433  0.88513158]\n",
            " [-1.34235616 -1.3573049  -1.75473454]\n",
            " [-1.32503543 -1.3573049   0.88513158]\n",
            " [-1.30771471 -1.24279661 -1.4053405 ]\n",
            " [-1.29039398 -1.24279661  1.23452563]\n",
            " [-1.27307326 -1.24279661 -0.7065524 ]\n",
            " [-1.25575253 -1.24279661  0.41927286]\n",
            " [-1.23843181 -1.20462718 -0.74537397]\n",
            " [-1.22111108 -1.20462718  1.42863343]\n",
            " [-1.20379036 -1.16645776 -1.7935561 ]\n",
            " [-1.18646963 -1.16645776  0.88513158]\n",
            " [-1.16914891 -1.05194947 -1.7935561 ]\n",
            " [-1.15182818 -1.05194947  1.62274124]\n",
            " [-1.13450746 -1.05194947 -1.4053405 ]\n",
            " [-1.11718674 -1.05194947  1.19570407]\n",
            " [-1.09986601 -1.01378004 -1.28887582]\n",
            " [-1.08254529 -1.01378004  0.88513158]\n",
            " [-1.06522456 -0.89927175 -0.93948177]\n",
            " [-1.04790384 -0.89927175  0.96277471]\n",
            " [-1.03058311 -0.86110232 -0.59008772]\n",
            " [-1.01326239 -0.86110232  1.62274124]\n",
            " [-0.99594166 -0.82293289 -0.55126616]\n",
            " [-0.97862094 -0.82293289  0.41927286]\n",
            " [-0.96130021 -0.82293289 -0.86183865]\n",
            " [-0.94397949 -0.82293289  0.5745591 ]\n",
            " [-0.92665877 -0.78476346  0.18634349]\n",
            " [-0.90933804 -0.78476346 -0.12422899]\n",
            " [-0.89201732 -0.78476346 -0.3183368 ]\n",
            " [-0.87469659 -0.78476346 -0.3183368 ]\n",
            " [-0.85737587 -0.70842461  0.06987881]\n",
            " [-0.84005514 -0.70842461  0.38045129]\n",
            " [-0.82273442 -0.67025518  0.14752193]\n",
            " [-0.80541369 -0.67025518  0.38045129]\n",
            " [-0.78809297 -0.67025518 -0.20187212]\n",
            " [-0.77077224 -0.67025518 -0.35715836]\n",
            " [-0.75345152 -0.63208575 -0.00776431]\n",
            " [-0.73613079 -0.63208575 -0.16305055]\n",
            " [-0.71881007 -0.55574689  0.03105725]\n",
            " [-0.70148935 -0.55574689 -0.16305055]\n",
            " [-0.68416862 -0.55574689  0.22516505]\n",
            " [-0.6668479  -0.55574689  0.18634349]\n",
            " [-0.64952717 -0.51757746  0.06987881]\n",
            " [-0.63220645 -0.51757746  0.34162973]\n",
            " [-0.61488572 -0.47940803  0.03105725]\n",
            " [-0.597565   -0.47940803  0.34162973]\n",
            " [-0.58024427 -0.47940803 -0.00776431]\n",
            " [-0.56292355 -0.47940803 -0.08540743]\n",
            " [-0.54560282 -0.47940803  0.34162973]\n",
            " [-0.5282821  -0.47940803 -0.12422899]\n",
            " [-0.51096138 -0.4412386   0.18634349]\n",
            " [-0.49364065 -0.4412386  -0.3183368 ]\n",
            " [-0.47631993 -0.40306917 -0.04658587]\n",
            " [-0.4589992  -0.40306917  0.22516505]\n",
            " [-0.44167848 -0.25039146 -0.12422899]\n",
            " [-0.42435775 -0.25039146  0.14752193]\n",
            " [-0.40703703 -0.25039146  0.10870037]\n",
            " [-0.3897163  -0.25039146 -0.08540743]\n",
            " [-0.37239558 -0.25039146  0.06987881]\n",
            " [-0.35507485 -0.25039146 -0.3183368 ]\n",
            " [-0.33775413 -0.25039146  0.03105725]\n",
            " [-0.3204334  -0.25039146  0.18634349]\n",
            " [-0.30311268 -0.25039146 -0.35715836]\n",
            " [-0.28579196 -0.25039146 -0.24069368]\n",
            " [-0.26847123 -0.25039146  0.26398661]\n",
            " [-0.25115051 -0.25039146 -0.16305055]\n",
            " [-0.23382978 -0.13588317  0.30280817]\n",
            " [-0.21650906 -0.13588317  0.18634349]\n",
            " [-0.19918833 -0.09771374  0.38045129]\n",
            " [-0.18186761 -0.09771374 -0.16305055]\n",
            " [-0.16454688 -0.05954431  0.18634349]\n",
            " [-0.14722616 -0.05954431 -0.35715836]\n",
            " [-0.12990543 -0.02137488 -0.04658587]\n",
            " [-0.11258471 -0.02137488 -0.39597992]\n",
            " [-0.09526399 -0.02137488 -0.3183368 ]\n",
            " [-0.07794326 -0.02137488  0.06987881]\n",
            " [-0.06062254 -0.02137488 -0.12422899]\n",
            " [-0.04330181 -0.02137488 -0.00776431]\n",
            " [-0.02598109  0.01679455 -0.3183368 ]\n",
            " [-0.00866036  0.01679455 -0.04658587]\n",
            " [ 0.00866036  0.05496398 -0.35715836]\n",
            " [ 0.02598109  0.05496398 -0.08540743]\n",
            " [ 0.04330181  0.05496398  0.34162973]\n",
            " [ 0.06062254  0.05496398  0.18634349]\n",
            " [ 0.07794326  0.05496398  0.22516505]\n",
            " [ 0.09526399  0.05496398 -0.3183368 ]\n",
            " [ 0.11258471  0.09313341 -0.00776431]\n",
            " [ 0.12990543  0.09313341 -0.16305055]\n",
            " [ 0.14722616  0.09313341 -0.27951524]\n",
            " [ 0.16454688  0.09313341 -0.08540743]\n",
            " [ 0.18186761  0.09313341  0.06987881]\n",
            " [ 0.19918833  0.09313341  0.14752193]\n",
            " [ 0.21650906  0.13130284 -0.3183368 ]\n",
            " [ 0.23382978  0.13130284 -0.16305055]\n",
            " [ 0.25115051  0.16947227 -0.08540743]\n",
            " [ 0.26847123  0.16947227 -0.00776431]\n",
            " [ 0.28579196  0.16947227 -0.27951524]\n",
            " [ 0.30311268  0.16947227  0.34162973]\n",
            " [ 0.3204334   0.24581112 -0.27951524]\n",
            " [ 0.33775413  0.24581112  0.26398661]\n",
            " [ 0.35507485  0.24581112  0.22516505]\n",
            " [ 0.37239558  0.24581112 -0.39597992]\n",
            " [ 0.3897163   0.32214998  0.30280817]\n",
            " [ 0.40703703  0.32214998  1.58391968]\n",
            " [ 0.42435775  0.36031941 -0.82301709]\n",
            " [ 0.44167848  0.36031941  1.04041783]\n",
            " [ 0.4589992   0.39848884 -0.59008772]\n",
            " [ 0.47631993  0.39848884  1.73920592]\n",
            " [ 0.49364065  0.39848884 -1.52180518]\n",
            " [ 0.51096138  0.39848884  0.96277471]\n",
            " [ 0.5282821   0.39848884 -1.5994483 ]\n",
            " [ 0.54560282  0.39848884  0.96277471]\n",
            " [ 0.56292355  0.43665827 -0.62890928]\n",
            " [ 0.58024427  0.43665827  0.80748846]\n",
            " [ 0.597565    0.4748277  -1.75473454]\n",
            " [ 0.61488572  0.4748277   1.46745499]\n",
            " [ 0.63220645  0.4748277  -1.67709142]\n",
            " [ 0.64952717  0.4748277   0.88513158]\n",
            " [ 0.6668479   0.51299713 -1.56062674]\n",
            " [ 0.68416862  0.51299713  0.84631002]\n",
            " [ 0.70148935  0.55116656 -1.75473454]\n",
            " [ 0.71881007  0.55116656  1.6615628 ]\n",
            " [ 0.73613079  0.58933599 -0.39597992]\n",
            " [ 0.75345152  0.58933599  1.42863343]\n",
            " [ 0.77077224  0.62750542 -1.48298362]\n",
            " [ 0.78809297  0.62750542  1.81684904]\n",
            " [ 0.80541369  0.62750542 -0.55126616]\n",
            " [ 0.82273442  0.62750542  0.92395314]\n",
            " [ 0.84005514  0.66567484 -1.09476801]\n",
            " [ 0.85737587  0.66567484  1.54509812]\n",
            " [ 0.87469659  0.66567484 -1.28887582]\n",
            " [ 0.89201732  0.66567484  1.46745499]\n",
            " [ 0.90933804  0.66567484 -1.17241113]\n",
            " [ 0.92665877  0.66567484  1.00159627]\n",
            " [ 0.94397949  0.66567484 -1.32769738]\n",
            " [ 0.96130021  0.66567484  1.50627656]\n",
            " [ 0.97862094  0.66567484 -1.91002079]\n",
            " [ 0.99594166  0.66567484  1.07923939]\n",
            " [ 1.01326239  0.66567484 -1.91002079]\n",
            " [ 1.03058311  0.66567484  0.88513158]\n",
            " [ 1.04790384  0.70384427 -0.59008772]\n",
            " [ 1.06522456  0.70384427  1.27334719]\n",
            " [ 1.08254529  0.78018313 -1.75473454]\n",
            " [ 1.09986601  0.78018313  1.6615628 ]\n",
            " [ 1.11718674  0.93286085 -0.93948177]\n",
            " [ 1.13450746  0.93286085  0.96277471]\n",
            " [ 1.15182818  0.97103028 -1.17241113]\n",
            " [ 1.16914891  0.97103028  1.73920592]\n",
            " [ 1.18646963  1.00919971 -0.90066021]\n",
            " [ 1.20379036  1.00919971  0.49691598]\n",
            " [ 1.22111108  1.00919971 -1.44416206]\n",
            " [ 1.23843181  1.00919971  0.96277471]\n",
            " [ 1.25575253  1.00919971 -1.56062674]\n",
            " [ 1.27307326  1.00919971  1.62274124]\n",
            " [ 1.29039398  1.04736914 -1.44416206]\n",
            " [ 1.30771471  1.04736914  1.38981187]\n",
            " [ 1.32503543  1.04736914 -1.36651894]\n",
            " [ 1.34235616  1.04736914  0.72984534]\n",
            " [ 1.35967688  1.23821628 -1.4053405 ]\n",
            " [ 1.3769976   1.23821628  1.54509812]\n",
            " [ 1.39431833  1.390894   -0.7065524 ]\n",
            " [ 1.41163905  1.390894    1.38981187]\n",
            " [ 1.42895978  1.42906343 -1.36651894]\n",
            " [ 1.4462805   1.42906343  1.46745499]\n",
            " [ 1.46360123  1.46723286 -0.43480148]\n",
            " [ 1.48092195  1.46723286  1.81684904]\n",
            " [ 1.49824268  1.54357172 -1.01712489]\n",
            " [ 1.5155634   1.54357172  0.69102378]\n",
            " [ 1.53288413  1.61991057 -1.28887582]\n",
            " [ 1.55020485  1.61991057  1.35099031]\n",
            " [ 1.56752558  1.61991057 -1.05594645]\n",
            " [ 1.5848463   1.61991057  0.72984534]\n",
            " [ 1.60216702  2.00160487 -1.63826986]\n",
            " [ 1.61948775  2.00160487  1.58391968]\n",
            " [ 1.63680847  2.26879087 -1.32769738]\n",
            " [ 1.6541292   2.26879087  1.11806095]\n",
            " [ 1.67144992  2.49780745 -0.86183865]\n",
            " [ 1.68877065  2.49780745  0.92395314]\n",
            " [ 1.70609137  2.91767117 -1.25005425]\n",
            " [ 1.7234121   2.91767117  1.27334719]]\n"
          ]
        }
      ]
    },
    {
      "cell_type": "markdown",
      "source": [
        "**10)Split the data into training and testing.**"
      ],
      "metadata": {
        "id": "ZKH9O4Sc3AOF"
      }
    },
    {
      "cell_type": "code",
      "source": [
        "from sklearn.model_selection import train_test_split\n",
        "x_train,x_test,y_train,y_test=train_test_split(x,y,test_size=0.2,random_state=0)\n",
        "x_train.shape"
      ],
      "metadata": {
        "colab": {
          "base_uri": "https://localhost:8080/"
        },
        "id": "vRQ7YYkt3J5P",
        "outputId": "52d46f17-c9c3-463e-de79-56614e4abf33"
      },
      "execution_count": 21,
      "outputs": [
        {
          "output_type": "execute_result",
          "data": {
            "text/plain": [
              "(160, 3)"
            ]
          },
          "metadata": {},
          "execution_count": 21
        }
      ]
    },
    {
      "cell_type": "code",
      "source": [
        "x_test.shape"
      ],
      "metadata": {
        "colab": {
          "base_uri": "https://localhost:8080/"
        },
        "id": "kvbbqmwL3Ptj",
        "outputId": "a90411a8-f681-422a-aaf1-79438756a50f"
      },
      "execution_count": 22,
      "outputs": [
        {
          "output_type": "execute_result",
          "data": {
            "text/plain": [
              "(40, 3)"
            ]
          },
          "metadata": {},
          "execution_count": 22
        }
      ]
    },
    {
      "cell_type": "code",
      "source": [
        "y_test.shape"
      ],
      "metadata": {
        "colab": {
          "base_uri": "https://localhost:8080/"
        },
        "id": "gRBXDPrM3Q1q",
        "outputId": "0601a177-a2c5-4ded-97bb-e722383b190e"
      },
      "execution_count": 23,
      "outputs": [
        {
          "output_type": "execute_result",
          "data": {
            "text/plain": [
              "(40,)"
            ]
          },
          "metadata": {},
          "execution_count": 23
        }
      ]
    },
    {
      "cell_type": "markdown",
      "source": [
        "**11)Build the Model.**"
      ],
      "metadata": {
        "id": "bZYw8VdH3V1k"
      }
    },
    {
      "cell_type": "code",
      "source": [
        "from sklearn.cluster import KMeans\n"
      ],
      "metadata": {
        "id": "WC8khHL43X1f"
      },
      "execution_count": 32,
      "outputs": []
    },
    {
      "cell_type": "code",
      "source": [
        "data = list(zip(x, y))"
      ],
      "metadata": {
        "id": "x2yhTb9hoxFB"
      },
      "execution_count": 33,
      "outputs": []
    },
    {
      "cell_type": "markdown",
      "source": [
        "**12)Train the Model.**"
      ],
      "metadata": {
        "id": "WdgU8TGe3aXE"
      }
    },
    {
      "cell_type": "code",
      "source": [
        "import pandas as pd\n",
        "from sklearn.preprocessing import StandardScaler\n",
        "scaler = StandardScaler()\n",
        "scaled=scaler.fit_transform(dataset)\n",
        "print(scaled)"
      ],
      "metadata": {
        "colab": {
          "base_uri": "https://localhost:8080/"
        },
        "id": "FOmTL4curgAI",
        "outputId": "a90e4d3d-1732-4201-96bd-51aa701296b9"
      },
      "execution_count": 38,
      "outputs": [
        {
          "output_type": "stream",
          "name": "stdout",
          "text": [
            "[[-1.7234121   1.12815215 -1.42456879 -1.73899919 -0.43480148]\n",
            " [-1.70609137  1.12815215 -1.28103541 -1.73899919  1.19570407]\n",
            " [-1.68877065 -0.88640526 -1.3528021  -1.70082976 -1.71591298]\n",
            " [-1.67144992 -0.88640526 -1.13750203 -1.70082976  1.04041783]\n",
            " [-1.6541292  -0.88640526 -0.56336851 -1.66266033 -0.39597992]\n",
            " [-1.63680847 -0.88640526 -1.20926872 -1.66266033  1.00159627]\n",
            " [-1.61948775 -0.88640526 -0.27630176 -1.62449091 -1.71591298]\n",
            " [-1.60216702 -0.88640526 -1.13750203 -1.62449091  1.70038436]\n",
            " [-1.5848463   1.12815215  1.80493225 -1.58632148 -1.83237767]\n",
            " [-1.56752558 -0.88640526 -0.6351352  -1.58632148  0.84631002]\n",
            " [-1.55020485  1.12815215  2.02023231 -1.58632148 -1.4053405 ]\n",
            " [-1.53288413 -0.88640526 -0.27630176 -1.58632148  1.89449216]\n",
            " [-1.5155634  -0.88640526  1.37433211 -1.54815205 -1.36651894]\n",
            " [-1.49824268 -0.88640526 -1.06573534 -1.54815205  1.04041783]\n",
            " [-1.48092195  1.12815215 -0.13276838 -1.54815205 -1.44416206]\n",
            " [-1.46360123  1.12815215 -1.20926872 -1.54815205  1.11806095]\n",
            " [-1.4462805  -0.88640526 -0.27630176 -1.50998262 -0.59008772]\n",
            " [-1.42895978  1.12815215 -1.3528021  -1.50998262  0.61338066]\n",
            " [-1.41163905  1.12815215  0.94373197 -1.43364376 -0.82301709]\n",
            " [-1.39431833 -0.88640526 -0.27630176 -1.43364376  1.8556706 ]\n",
            " [-1.3769976   1.12815215 -0.27630176 -1.39547433 -0.59008772]\n",
            " [-1.35967688  1.12815215 -0.99396865 -1.39547433  0.88513158]\n",
            " [-1.34235616 -0.88640526  0.51313183 -1.3573049  -1.75473454]\n",
            " [-1.32503543  1.12815215 -0.56336851 -1.3573049   0.88513158]\n",
            " [-1.30771471 -0.88640526  1.08726535 -1.24279661 -1.4053405 ]\n",
            " [-1.29039398  1.12815215 -0.70690189 -1.24279661  1.23452563]\n",
            " [-1.27307326 -0.88640526  0.44136514 -1.24279661 -0.7065524 ]\n",
            " [-1.25575253  1.12815215 -0.27630176 -1.24279661  0.41927286]\n",
            " [-1.23843181 -0.88640526  0.08253169 -1.20462718 -0.74537397]\n",
            " [-1.22111108 -0.88640526 -1.13750203 -1.20462718  1.42863343]\n",
            " [-1.20379036  1.12815215  1.51786549 -1.16645776 -1.7935561 ]\n",
            " [-1.18646963 -0.88640526 -1.28103541 -1.16645776  0.88513158]\n",
            " [-1.16914891  1.12815215  1.01549866 -1.05194947 -1.7935561 ]\n",
            " [-1.15182818  1.12815215 -1.49633548 -1.05194947  1.62274124]\n",
            " [-1.13450746 -0.88640526  0.7284319  -1.05194947 -1.4053405 ]\n",
            " [-1.11718674 -0.88640526 -1.28103541 -1.05194947  1.19570407]\n",
            " [-1.09986601 -0.88640526  0.22606507 -1.01378004 -1.28887582]\n",
            " [-1.08254529 -0.88640526 -0.6351352  -1.01378004  0.88513158]\n",
            " [-1.06522456 -0.88640526 -0.20453507 -0.89927175 -0.93948177]\n",
            " [-1.04790384 -0.88640526 -1.3528021  -0.89927175  0.96277471]\n",
            " [-1.03058311 -0.88640526  1.87669894 -0.86110232 -0.59008772]\n",
            " [-1.01326239  1.12815215 -1.06573534 -0.86110232  1.62274124]\n",
            " [-0.99594166  1.12815215  0.65666521 -0.82293289 -0.55126616]\n",
            " [-0.97862094 -0.88640526 -0.56336851 -0.82293289  0.41927286]\n",
            " [-0.96130021 -0.88640526  0.7284319  -0.82293289 -0.86183865]\n",
            " [-0.94397949 -0.88640526 -1.06573534 -0.82293289  0.5745591 ]\n",
            " [-0.92665877 -0.88640526  0.80019859 -0.78476346  0.18634349]\n",
            " [-0.90933804 -0.88640526 -0.85043527 -0.78476346 -0.12422899]\n",
            " [-0.89201732 -0.88640526 -0.70690189 -0.78476346 -0.3183368 ]\n",
            " [-0.87469659 -0.88640526 -0.56336851 -0.78476346 -0.3183368 ]\n",
            " [-0.85737587 -0.88640526  0.7284319  -0.70842461  0.06987881]\n",
            " [-0.84005514  1.12815215 -0.41983513 -0.70842461  0.38045129]\n",
            " [-0.82273442 -0.88640526 -0.56336851 -0.67025518  0.14752193]\n",
            " [-0.80541369  1.12815215  1.4460988  -0.67025518  0.38045129]\n",
            " [-0.78809297 -0.88640526  0.80019859 -0.67025518 -0.20187212]\n",
            " [-0.77077224  1.12815215  0.58489852 -0.67025518 -0.35715836]\n",
            " [-0.75345152 -0.88640526  0.87196528 -0.63208575 -0.00776431]\n",
            " [-0.73613079  1.12815215  2.16376569 -0.63208575 -0.16305055]\n",
            " [-0.71881007 -0.88640526 -0.85043527 -0.55574689  0.03105725]\n",
            " [-0.70148935  1.12815215  1.01549866 -0.55574689 -0.16305055]\n",
            " [-0.68416862  1.12815215  2.23553238 -0.55574689  0.22516505]\n",
            " [-0.6668479   1.12815215 -1.42456879 -0.55574689  0.18634349]\n",
            " [-0.64952717 -0.88640526  2.02023231 -0.51757746  0.06987881]\n",
            " [-0.63220645 -0.88640526  1.08726535 -0.51757746  0.34162973]\n",
            " [-0.61488572  1.12815215  1.73316556 -0.47940803  0.03105725]\n",
            " [-0.597565    1.12815215 -1.49633548 -0.47940803  0.34162973]\n",
            " [-0.58024427 -0.88640526  0.29783176 -0.47940803 -0.00776431]\n",
            " [-0.56292355 -0.88640526  2.091999   -0.47940803 -0.08540743]\n",
            " [-0.54560282  1.12815215 -1.42456879 -0.47940803  0.34162973]\n",
            " [-0.5282821  -0.88640526 -0.49160182 -0.47940803 -0.12422899]\n",
            " [-0.51096138  1.12815215  2.23553238 -0.4412386   0.18634349]\n",
            " [-0.49364065 -0.88640526  0.58489852 -0.4412386  -0.3183368 ]\n",
            " [-0.47631993 -0.88640526  1.51786549 -0.40306917 -0.04658587]\n",
            " [-0.4589992  -0.88640526  1.51786549 -0.40306917  0.22516505]\n",
            " [-0.44167848  1.12815215  1.4460988  -0.25039146 -0.12422899]\n",
            " [-0.42435775  1.12815215 -0.92220196 -0.25039146  0.14752193]\n",
            " [-0.40703703 -0.88640526  0.44136514 -0.25039146  0.10870037]\n",
            " [-0.3897163   1.12815215  0.08253169 -0.25039146 -0.08540743]\n",
            " [-0.37239558 -0.88640526 -1.13750203 -0.25039146  0.06987881]\n",
            " [-0.35507485 -0.88640526  0.7284319  -0.25039146 -0.3183368 ]\n",
            " [-0.33775413  1.12815215  1.30256542 -0.25039146  0.03105725]\n",
            " [-0.3204334   1.12815215 -0.06100169 -0.25039146  0.18634349]\n",
            " [-0.30311268  1.12815215  2.02023231 -0.25039146 -0.35715836]\n",
            " [-0.28579196 -0.88640526  0.51313183 -0.25039146 -0.24069368]\n",
            " [-0.26847123 -0.88640526 -1.28103541 -0.25039146  0.26398661]\n",
            " [-0.25115051  1.12815215  0.65666521 -0.25039146 -0.16305055]\n",
            " [-0.23382978 -0.88640526  1.15903204 -0.13588317  0.30280817]\n",
            " [-0.21650906 -0.88640526 -1.20926872 -0.13588317  0.18634349]\n",
            " [-0.19918833 -0.88640526 -0.34806844 -0.09771374  0.38045129]\n",
            " [-0.18186761 -0.88640526  0.80019859 -0.09771374 -0.16305055]\n",
            " [-0.16454688 -0.88640526  2.091999   -0.05954431  0.18634349]\n",
            " [-0.14722616  1.12815215 -1.49633548 -0.05954431 -0.35715836]\n",
            " [-0.12990543  1.12815215  0.65666521 -0.02137488 -0.04658587]\n",
            " [-0.11258471 -0.88640526  0.08253169 -0.02137488 -0.39597992]\n",
            " [-0.09526399 -0.88640526 -0.49160182 -0.02137488 -0.3183368 ]\n",
            " [-0.07794326  1.12815215 -1.06573534 -0.02137488  0.06987881]\n",
            " [-0.06062254 -0.88640526  0.58489852 -0.02137488 -0.12422899]\n",
            " [-0.04330181 -0.88640526 -0.85043527 -0.02137488 -0.00776431]\n",
            " [-0.02598109  1.12815215  0.65666521  0.01679455 -0.3183368 ]\n",
            " [-0.00866036  1.12815215 -1.3528021   0.01679455 -0.04658587]\n",
            " [ 0.00866036 -0.88640526 -1.13750203  0.05496398 -0.35715836]\n",
            " [ 0.02598109 -0.88640526  0.7284319   0.05496398 -0.08540743]\n",
            " [ 0.04330181  1.12815215  2.02023231  0.05496398  0.34162973]\n",
            " [ 0.06062254  1.12815215 -0.92220196  0.05496398  0.18634349]\n",
            " [ 0.07794326  1.12815215  0.7284319   0.05496398  0.22516505]\n",
            " [ 0.09526399 -0.88640526 -1.28103541  0.05496398 -0.3183368 ]\n",
            " [ 0.11258471 -0.88640526  1.94846562  0.09313341 -0.00776431]\n",
            " [ 0.12990543  1.12815215  1.08726535  0.09313341 -0.16305055]\n",
            " [ 0.14722616  1.12815215  2.091999    0.09313341 -0.27951524]\n",
            " [ 0.16454688  1.12815215  1.94846562  0.09313341 -0.08540743]\n",
            " [ 0.18186761  1.12815215  1.87669894  0.09313341  0.06987881]\n",
            " [ 0.19918833 -0.88640526 -1.42456879  0.09313341  0.14752193]\n",
            " [ 0.21650906 -0.88640526 -0.06100169  0.13130284 -0.3183368 ]\n",
            " [ 0.23382978  1.12815215 -1.42456879  0.13130284 -0.16305055]\n",
            " [ 0.25115051 -0.88640526 -1.49633548  0.16947227 -0.08540743]\n",
            " [ 0.26847123 -0.88640526 -1.42456879  0.16947227 -0.00776431]\n",
            " [ 0.28579196 -0.88640526  1.73316556  0.16947227 -0.27951524]\n",
            " [ 0.30311268 -0.88640526  0.7284319   0.16947227  0.34162973]\n",
            " [ 0.3204334  -0.88640526  0.87196528  0.24581112 -0.27951524]\n",
            " [ 0.33775413 -0.88640526  0.80019859  0.24581112  0.26398661]\n",
            " [ 0.35507485  1.12815215 -0.85043527  0.24581112  0.22516505]\n",
            " [ 0.37239558 -0.88640526 -0.06100169  0.24581112 -0.39597992]\n",
            " [ 0.3897163  -0.88640526  0.08253169  0.32214998  0.30280817]\n",
            " [ 0.40703703  1.12815215  0.010765    0.32214998  1.58391968]\n",
            " [ 0.42435775 -0.88640526 -1.13750203  0.36031941 -0.82301709]\n",
            " [ 0.44167848 -0.88640526 -0.56336851  0.36031941  1.04041783]\n",
            " [ 0.4589992   1.12815215  0.29783176  0.39848884 -0.59008772]\n",
            " [ 0.47631993  1.12815215  0.08253169  0.39848884  1.73920592]\n",
            " [ 0.49364065  1.12815215  1.4460988   0.39848884 -1.52180518]\n",
            " [ 0.51096138  1.12815215 -0.06100169  0.39848884  0.96277471]\n",
            " [ 0.5282821   1.12815215  0.58489852  0.39848884 -1.5994483 ]\n",
            " [ 0.54560282  1.12815215  0.010765    0.39848884  0.96277471]\n",
            " [ 0.56292355 -0.88640526 -0.99396865  0.43665827 -0.62890928]\n",
            " [ 0.58024427 -0.88640526 -0.56336851  0.43665827  0.80748846]\n",
            " [ 0.597565    1.12815215 -1.3528021   0.4748277  -1.75473454]\n",
            " [ 0.61488572 -0.88640526 -0.70690189  0.4748277   1.46745499]\n",
            " [ 0.63220645 -0.88640526  0.36959845  0.4748277  -1.67709142]\n",
            " [ 0.64952717  1.12815215 -0.49160182  0.4748277   0.88513158]\n",
            " [ 0.6668479   1.12815215 -1.42456879  0.51299713 -1.56062674]\n",
            " [ 0.68416862 -0.88640526 -0.27630176  0.51299713  0.84631002]\n",
            " [ 0.70148935 -0.88640526  1.30256542  0.55116656 -1.75473454]\n",
            " [ 0.71881007  1.12815215 -0.49160182  0.55116656  1.6615628 ]\n",
            " [ 0.73613079 -0.88640526 -0.77866858  0.58933599 -0.39597992]\n",
            " [ 0.75345152 -0.88640526 -0.49160182  0.58933599  1.42863343]\n",
            " [ 0.77077224  1.12815215 -0.99396865  0.62750542 -1.48298362]\n",
            " [ 0.78809297  1.12815215 -0.77866858  0.62750542  1.81684904]\n",
            " [ 0.80541369  1.12815215  0.65666521  0.62750542 -0.55126616]\n",
            " [ 0.82273442 -0.88640526 -0.49160182  0.62750542  0.92395314]\n",
            " [ 0.84005514 -0.88640526 -0.34806844  0.66567484 -1.09476801]\n",
            " [ 0.85737587  1.12815215 -0.34806844  0.66567484  1.54509812]\n",
            " [ 0.87469659  1.12815215  0.29783176  0.66567484 -1.28887582]\n",
            " [ 0.89201732  1.12815215  0.010765    0.66567484  1.46745499]\n",
            " [ 0.90933804 -0.88640526  0.36959845  0.66567484 -1.17241113]\n",
            " [ 0.92665877 -0.88640526 -0.06100169  0.66567484  1.00159627]\n",
            " [ 0.94397949 -0.88640526  0.58489852  0.66567484 -1.32769738]\n",
            " [ 0.96130021 -0.88640526 -0.85043527  0.66567484  1.50627656]\n",
            " [ 0.97862094  1.12815215 -0.13276838  0.66567484 -1.91002079]\n",
            " [ 0.99594166 -0.88640526 -0.6351352   0.66567484  1.07923939]\n",
            " [ 1.01326239  1.12815215 -0.34806844  0.66567484 -1.91002079]\n",
            " [ 1.03058311 -0.88640526 -0.6351352   0.66567484  0.88513158]\n",
            " [ 1.04790384 -0.88640526  1.23079873  0.70384427 -0.59008772]\n",
            " [ 1.06522456 -0.88640526 -0.70690189  0.70384427  1.27334719]\n",
            " [ 1.08254529  1.12815215 -1.42456879  0.78018313 -1.75473454]\n",
            " [ 1.09986601 -0.88640526 -0.56336851  0.78018313  1.6615628 ]\n",
            " [ 1.11718674  1.12815215  0.80019859  0.93286085 -0.93948177]\n",
            " [ 1.13450746 -0.88640526 -0.20453507  0.93286085  0.96277471]\n",
            " [ 1.15182818  1.12815215  0.22606507  0.97103028 -1.17241113]\n",
            " [ 1.16914891 -0.88640526 -0.41983513  0.97103028  1.73920592]\n",
            " [ 1.18646963 -0.88640526 -0.20453507  1.00919971 -0.90066021]\n",
            " [ 1.20379036  1.12815215 -0.49160182  1.00919971  0.49691598]\n",
            " [ 1.22111108  1.12815215  0.08253169  1.00919971 -1.44416206]\n",
            " [ 1.23843181  1.12815215 -0.77866858  1.00919971  0.96277471]\n",
            " [ 1.25575253  1.12815215 -0.20453507  1.00919971 -1.56062674]\n",
            " [ 1.27307326  1.12815215 -0.20453507  1.00919971  1.62274124]\n",
            " [ 1.29039398 -0.88640526  0.94373197  1.04736914 -1.44416206]\n",
            " [ 1.30771471 -0.88640526 -0.6351352   1.04736914  1.38981187]\n",
            " [ 1.32503543  1.12815215  1.37433211  1.04736914 -1.36651894]\n",
            " [ 1.34235616  1.12815215 -0.85043527  1.04736914  0.72984534]\n",
            " [ 1.35967688  1.12815215  1.4460988   1.23821628 -1.4053405 ]\n",
            " [ 1.3769976   1.12815215 -0.27630176  1.23821628  1.54509812]\n",
            " [ 1.39431833 -0.88640526 -0.13276838  1.390894   -0.7065524 ]\n",
            " [ 1.41163905 -0.88640526 -0.49160182  1.390894    1.38981187]\n",
            " [ 1.42895978  1.12815215  0.51313183  1.42906343 -1.36651894]\n",
            " [ 1.4462805  -0.88640526 -0.70690189  1.42906343  1.46745499]\n",
            " [ 1.46360123 -0.88640526  0.15429838  1.46723286 -0.43480148]\n",
            " [ 1.48092195  1.12815215 -0.6351352   1.46723286  1.81684904]\n",
            " [ 1.49824268 -0.88640526  1.08726535  1.54357172 -1.01712489]\n",
            " [ 1.5155634   1.12815215 -0.77866858  1.54357172  0.69102378]\n",
            " [ 1.53288413 -0.88640526  0.15429838  1.61991057 -1.28887582]\n",
            " [ 1.55020485 -0.88640526 -0.20453507  1.61991057  1.35099031]\n",
            " [ 1.56752558 -0.88640526 -0.34806844  1.61991057 -1.05594645]\n",
            " [ 1.5848463  -0.88640526 -0.49160182  1.61991057  0.72984534]\n",
            " [ 1.60216702  1.12815215 -0.41983513  2.00160487 -1.63826986]\n",
            " [ 1.61948775 -0.88640526 -0.06100169  2.00160487  1.58391968]\n",
            " [ 1.63680847 -0.88640526  0.58489852  2.26879087 -1.32769738]\n",
            " [ 1.6541292  -0.88640526 -0.27630176  2.26879087  1.11806095]\n",
            " [ 1.67144992 -0.88640526  0.44136514  2.49780745 -0.86183865]\n",
            " [ 1.68877065  1.12815215 -0.49160182  2.49780745  0.92395314]\n",
            " [ 1.70609137  1.12815215 -0.49160182  2.91767117 -1.25005425]\n",
            " [ 1.7234121   1.12815215 -0.6351352   2.91767117  1.27334719]]\n"
          ]
        }
      ]
    },
    {
      "cell_type": "code",
      "source": [
        "#Elbow methd to find number of clusters\n",
        "w = []\n",
        "K = range(1,10)\n",
        "for k in K:\n",
        "    kmeanModel = KMeans(n_clusters=k)\n",
        "    kmeanModel.fit(scaled)\n",
        "    w.append(kmeanModel.inertia_)\n",
        "\n",
        "plt.figure(figsize=(16,8))\n",
        "plt.plot(K, w)\n",
        "plt.xlabel('Number of clusters')\n",
        "plt.ylabel('Distortion')\n",
        "plt.title('The Elbow Method showing the optimal number of clusters (k)')\n",
        "\n",
        "plt.show()"
      ],
      "metadata": {
        "colab": {
          "base_uri": "https://localhost:8080/",
          "height": 513
        },
        "id": "esfTW5T7rjk1",
        "outputId": "a1aa44c9-0362-4c4c-9896-c9df94ed0be8"
      },
      "execution_count": 39,
      "outputs": [
        {
          "output_type": "display_data",
          "data": {
            "text/plain": [
              "<Figure size 1152x576 with 1 Axes>"
            ],
            "image/png": "[encoded data removed]"
          },
          "metadata": {
            "needs_background": "light"
          }
        }
      ]
    },
    {
      "cell_type": "code",
      "source": [
        "#Training the model-Support Vectom Regression\n",
        "from sklearn.cluster import KMeans\n",
        "kmean = KMeans(n_clusters=3)\n",
        "kmean.fit(scaled)\n",
        "y_pred = kmean.predict(scaled)\n",
        "dataset['pred_cluster'] = y_pred\n",
        "dataset.head"
      ],
      "metadata": {
        "colab": {
          "base_uri": "https://localhost:8080/"
        },
        "id": "lNHLGkPgrqxt",
        "outputId": "ca019954-a202-4a13-ceef-8f97b2238c01"
      },
      "execution_count": 40,
      "outputs": [
        {
          "output_type": "execute_result",
          "data": {
            "text/plain": [
              "<bound method NDFrame.head of      CustomerID  Gender  Age  Annual Income (k$)  Spending Score (1-100)  \\\n",
              "0             1       1   19                  15                      39   \n",
              "1             2       1   21                  15                      81   \n",
              "2             3       0   20                  16                       6   \n",
              "3             4       0   23                  16                      77   \n",
              "4             5       0   31                  17                      40   \n",
              "..          ...     ...  ...                 ...                     ...   \n",
              "195         196       0   35                 120                      79   \n",
              "196         197       0   45                 126                      28   \n",
              "197         198       1   32                 126                      74   \n",
              "198         199       1   32                 137                      18   \n",
              "199         200       1   30                 137                      83   \n",
              "\n",
              "     pred_cluster  \n",
              "0               0  \n",
              "1               0  \n",
              "2               0  \n",
              "3               0  \n",
              "4               0  \n",
              "..            ...  \n",
              "195             2  \n",
              "196             2  \n",
              "197             2  \n",
              "198             2  \n",
              "199             2  \n",
              "\n",
              "[200 rows x 6 columns]>"
            ]
          },
          "metadata": {},
          "execution_count": 40
        }
      ]
    },
    {
      "cell_type": "code",
      "source": [
        "#Independent Variables\n",
        "l2=list(dataset.columns)\n",
        "df2=dataset[l2[:len(l2)-1]]\n",
        "df2.head()"
      ],
      "metadata": {
        "colab": {
          "base_uri": "https://localhost:8080/",
          "height": 206
        },
        "id": "Fh51s7B9rxqq",
        "outputId": "c059c1ac-663a-4539-fe6e-3cc979610af1"
      },
      "execution_count": 42,
      "outputs": [
        {
          "output_type": "execute_result",
          "data": {
            "text/plain": [
              "   CustomerID  Gender  Age  Annual Income (k$)  Spending Score (1-100)\n",
              "0           1       1   19                  15                      39\n",
              "1           2       1   21                  15                      81\n",
              "2           3       0   20                  16                       6\n",
              "3           4       0   23                  16                      77\n",
              "4           5       0   31                  17                      40"
            ],
            "text/html": [
              "\n",
              "  <div id=\"df-9822cbc0-f211-41e7-a066-600e281c090d\">\n",
              "    <div class=\"colab-df-container\">\n",
              "      <div>\n",
              "<style scoped>\n",
              "    .dataframe tbody tr th:only-of-type {\n",
              "        vertical-align: middle;\n",
              "    }\n",
              "\n",
              "    .dataframe tbody tr th {\n",
              "        vertical-align: top;\n",
              "    }\n",
              "\n",
              "    .dataframe thead th {\n",
              "        text-align: right;\n",
              "    }\n",
              "</style>\n",
              "<table border=\"1\" class=\"dataframe\">\n",
              "  <thead>\n",
              "    <tr style=\"text-align: right;\">\n",
              "      <th></th>\n",
              "      <th>CustomerID</th>\n",
              "      <th>Gender</th>\n",
              "      <th>Age</th>\n",
              "      <th>Annual Income (k$)</th>\n",
              "      <th>Spending Score (1-100)</th>\n",
              "    </tr>\n",
              "  </thead>\n",
              "  <tbody>\n",
              "    <tr>\n",
              "      <th>0</th>\n",
              "      <td>1</td>\n",
              "      <td>1</td>\n",
              "      <td>19</td>\n",
              "      <td>15</td>\n",
              "      <td>39</td>\n",
              "    </tr>\n",
              "    <tr>\n",
              "      <th>1</th>\n",
              "      <td>2</td>\n",
              "      <td>1</td>\n",
              "      <td>21</td>\n",
              "      <td>15</td>\n",
              "      <td>81</td>\n",
              "    </tr>\n",
              "    <tr>\n",
              "      <th>2</th>\n",
              "      <td>3</td>\n",
              "      <td>0</td>\n",
              "      <td>20</td>\n",
              "      <td>16</td>\n",
              "      <td>6</td>\n",
              "    </tr>\n",
              "    <tr>\n",
              "      <th>3</th>\n",
              "      <td>4</td>\n",
              "      <td>0</td>\n",
              "      <td>23</td>\n",
              "      <td>16</td>\n",
              "      <td>77</td>\n",
              "    </tr>\n",
              "    <tr>\n",
              "      <th>4</th>\n",
              "      <td>5</td>\n",
              "      <td>0</td>\n",
              "      <td>31</td>\n",
              "      <td>17</td>\n",
              "      <td>40</td>\n",
              "    </tr>\n",
              "  </tbody>\n",
              "</table>\n",
              "</div>\n",
              "      <button class=\"colab-df-convert\" onclick=\"convertToInteractive('df-9822cbc0-f211-41e7-a066-600e281c090d')\"\n",
              "              title=\"Convert this dataframe to an interactive table.\"\n",
              "              style=\"display:none;\">\n",
              "        \n",
              "  <svg xmlns=\"http://www.w3.org/2000/svg\" height=\"24px\"viewBox=\"0 0 24 24\"\n",
              "       width=\"24px\">\n",
              "    <path d=\"M0 0h24v24H0V0z\" fill=\"none\"/>\n",
              "    <path d=\"M18.56 5.44l.94 2.06.94-2.06 2.06-.94-2.06-.94-.94-2.06-.94 2.06-2.06.94zm-11 1L8.5 8.5l.94-2.06 2.06-.94-2.06-.94L8.5 2.5l-.94 2.06-2.06.94zm10 10l.94 2.06.94-2.06 2.06-.94-2.06-.94-.94-2.06-.94 2.06-2.06.94z\"/><path d=\"M17.41 7.96l-1.37-1.37c-.4-.4-.92-.59-1.43-.59-.52 0-1.04.2-1.43.59L10.3 9.45l-7.72 7.72c-.78.78-.78 2.05 0 2.83L4 21.41c.39.39.9.59 1.41.59.51 0 1.02-.2 1.41-.59l7.78-7.78 2.81-2.81c.8-.78.8-2.07 0-2.86zM5.41 20L4 18.59l7.72-7.72 1.47 1.35L5.41 20z\"/>\n",
              "  </svg>\n",
              "      </button>\n",
              "      \n",
              "  <style>\n",
              "    .colab-df-container {\n",
              "      display:flex;\n",
              "      flex-wrap:wrap;\n",
              "      gap: 12px;\n",
              "    }\n",
              "\n",
              "    .colab-df-convert {\n",
              "      background-color: #E8F0FE;\n",
              "      border: none;\n",
              "      border-radius: 50%;\n",
              "      cursor: pointer;\n",
              "      display: none;\n",
              "      fill: #1967D2;\n",
              "      height: 32px;\n",
              "      padding: 0 0 0 0;\n",
              "      width: 32px;\n",
              "    }\n",
              "\n",
              "    .colab-df-convert:hover {\n",
              "      background-color: #E2EBFA;\n",
              "      box-shadow: 0px 1px 2px rgba(60, 64, 67, 0.3), 0px 1px 3px 1px rgba(60, 64, 67, 0.15);\n",
              "      fill: #174EA6;\n",
              "    }\n",
              "\n",
              "    [theme=dark] .colab-df-convert {\n",
              "      background-color: #3B4455;\n",
              "      fill: #D2E3FC;\n",
              "    }\n",
              "\n",
              "    [theme=dark] .colab-df-convert:hover {\n",
              "      background-color: #434B5C;\n",
              "      box-shadow: 0px 1px 3px 1px rgba(0, 0, 0, 0.15);\n",
              "      filter: drop-shadow(0px 1px 2px rgba(0, 0, 0, 0.3));\n",
              "      fill: #FFFFFF;\n",
              "    }\n",
              "  </style>\n",
              "\n",
              "      <script>\n",
              "        const buttonEl =\n",
              "          document.querySelector('#df-9822cbc0-f211-41e7-a066-600e281c090d button.colab-df-convert');\n",
              "        buttonEl.style.display =\n",
              "          google.colab.kernel.accessAllowed ? 'block' : 'none';\n",
              "\n",
              "        async function convertToInteractive(key) {\n",
              "          const element = document.querySelector('#df-9822cbc0-f211-41e7-a066-600e281c090d');\n",
              "          const dataTable =\n",
              "            await google.colab.kernel.invokeFunction('convertToInteractive',\n",
              "                                                     [key], {});\n",
              "          if (!dataTable) return;\n",
              "\n",
              "          const docLinkHtml = 'Like what you see? Visit the ' +\n",
              "            '<a target=\"_blank\" href=https://colab.research.google.com/notebooks/data_table.ipynb>data table notebook</a>'\n",
              "            + ' to learn more about interactive tables.';\n",
              "          element.innerHTML = '';\n",
              "          dataTable['output_type'] = 'display_data';\n",
              "          await google.colab.output.renderOutput(dataTable, element);\n",
              "          const docLink = document.createElement('div');\n",
              "          docLink.innerHTML = docLinkHtml;\n",
              "          element.appendChild(docLink);\n",
              "        }\n",
              "      </script>\n",
              "    </div>\n",
              "  </div>\n",
              "  "
            ]
          },
          "metadata": {},
          "execution_count": 42
        }
      ]
    },
    {
      "cell_type": "code",
      "source": [
        "#Dependent Variables \n",
        "df1=dataset['pred_cluster']\n",
        "df1"
      ],
      "metadata": {
        "colab": {
          "base_uri": "https://localhost:8080/"
        },
        "id": "yOtD263Vr39u",
        "outputId": "72e5f080-62f1-452f-e598-538f35440603"
      },
      "execution_count": 43,
      "outputs": [
        {
          "output_type": "execute_result",
          "data": {
            "text/plain": [
              "0      0\n",
              "1      0\n",
              "2      0\n",
              "3      0\n",
              "4      0\n",
              "      ..\n",
              "195    2\n",
              "196    2\n",
              "197    2\n",
              "198    2\n",
              "199    2\n",
              "Name: pred_cluster, Length: 200, dtype: int32"
            ]
          },
          "metadata": {},
          "execution_count": 43
        }
      ]
    },
    {
      "cell_type": "code",
      "source": [
        "#Scaling Variables\n",
        "import pandas as pd\n",
        "from sklearn.preprocessing import StandardScaler\n",
        "scaler = StandardScaler()\n",
        "scaled=scaler.fit_transform(dataset)\n",
        "print(scaled)"
      ],
      "metadata": {
        "colab": {
          "base_uri": "https://localhost:8080/"
        },
        "id": "N3m4UyNVsABf",
        "outputId": "a27a10d3-5ca8-4d77-b7a0-cd33079dd9ab"
      },
      "execution_count": 45,
      "outputs": [
        {
          "output_type": "stream",
          "name": "stdout",
          "text": [
            "[[-1.7234121   1.12815215 -1.42456879 -1.73899919 -0.43480148 -1.37281295]\n",
            " [-1.70609137  1.12815215 -1.28103541 -1.73899919  1.19570407 -1.37281295]\n",
            " [-1.68877065 -0.88640526 -1.3528021  -1.70082976 -1.71591298 -1.37281295]\n",
            " ...\n",
            " [ 1.68877065  1.12815215 -0.49160182  2.49780745  0.92395314  1.07863874]\n",
            " [ 1.70609137  1.12815215 -0.49160182  2.91767117 -1.25005425  1.07863874]\n",
            " [ 1.7234121   1.12815215 -0.6351352   2.91767117  1.27334719  1.07863874]]\n"
          ]
        }
      ]
    },
    {
      "cell_type": "code",
      "source": [
        "#Splitting Dataset\n",
        "import numpy as np\n",
        "from sklearn.model_selection import train_test_split\n",
        "y=dataset['pred_cluster'].to_numpy()\n",
        "X_train, X_test, y_train, y_test = train_test_split(scaled, y, test_size=0.10, random_state=42)"
      ],
      "metadata": {
        "id": "fi_CqdDwsF0T"
      },
      "execution_count": 46,
      "outputs": []
    },
    {
      "cell_type": "code",
      "source": [
        "X_train.shape"
      ],
      "metadata": {
        "colab": {
          "base_uri": "https://localhost:8080/"
        },
        "id": "b_kdtjEOsMP3",
        "outputId": "12febcb0-8b0a-4f0f-c216-a48df93f1839"
      },
      "execution_count": 47,
      "outputs": [
        {
          "output_type": "execute_result",
          "data": {
            "text/plain": [
              "(180, 6)"
            ]
          },
          "metadata": {},
          "execution_count": 47
        }
      ]
    },
    {
      "cell_type": "code",
      "source": [
        "X_test.shape"
      ],
      "metadata": {
        "colab": {
          "base_uri": "https://localhost:8080/"
        },
        "id": "nmUKLEjSsPSn",
        "outputId": "a8fd55e3-8fb7-480b-a28c-a72346fccef3"
      },
      "execution_count": 48,
      "outputs": [
        {
          "output_type": "execute_result",
          "data": {
            "text/plain": [
              "(20, 6)"
            ]
          },
          "metadata": {},
          "execution_count": 48
        }
      ]
    },
    {
      "cell_type": "code",
      "source": [
        "y_train.shape"
      ],
      "metadata": {
        "colab": {
          "base_uri": "https://localhost:8080/"
        },
        "id": "hatxTZQVsQeA",
        "outputId": "aa936bb0-ed62-4b3c-f84d-9d18fdcfe263"
      },
      "execution_count": 49,
      "outputs": [
        {
          "output_type": "execute_result",
          "data": {
            "text/plain": [
              "(180,)"
            ]
          },
          "metadata": {},
          "execution_count": 49
        }
      ]
    },
    {
      "cell_type": "code",
      "source": [
        "y_test.shape"
      ],
      "metadata": {
        "colab": {
          "base_uri": "https://localhost:8080/"
        },
        "id": "wdLEUxxysTBm",
        "outputId": "aa56bb8e-f3d3-45f9-de17-c94c653b05d1"
      },
      "execution_count": 50,
      "outputs": [
        {
          "output_type": "execute_result",
          "data": {
            "text/plain": [
              "(20,)"
            ]
          },
          "metadata": {},
          "execution_count": 50
        }
      ]
    },
    {
      "cell_type": "code",
      "source": [
        "#Training the model\n",
        "from sklearn.svm import SVR\n",
        "regrassor = SVR(kernel = 'rbf')\n",
        "regrassor.fit(X_train, y_train)"
      ],
      "metadata": {
        "colab": {
          "base_uri": "https://localhost:8080/"
        },
        "id": "C3kVrZMdsbxz",
        "outputId": "ff76eebb-8355-41f9-c3c0-9f0d47fbd994"
      },
      "execution_count": 51,
      "outputs": [
        {
          "output_type": "execute_result",
          "data": {
            "text/plain": [
              "SVR()"
            ]
          },
          "metadata": {},
          "execution_count": 51
        }
      ]
    },
    {
      "cell_type": "markdown",
      "source": [
        "**13)Test the Model.**"
      ],
      "metadata": {
        "id": "OxdBDVCA3iiB"
      }
    },
    {
      "cell_type": "code",
      "source": [
        "#Testing the model\n",
        "y_pred = regrassor.predict((X_test))"
      ],
      "metadata": {
        "id": "KcSZlSHB3m_U"
      },
      "execution_count": 52,
      "outputs": []
    },
    {
      "cell_type": "code",
      "source": [
        "df3 = pd.DataFrame({'Predicted value': y_pred, 'Real Value': y_test})\n",
        "df3"
      ],
      "metadata": {
        "colab": {
          "base_uri": "https://localhost:8080/",
          "height": 676
        },
        "id": "GfwXEWi7sllR",
        "outputId": "f8ea3f55-fc04-442f-884b-3b65d078cd24"
      },
      "execution_count": 53,
      "outputs": [
        {
          "output_type": "execute_result",
          "data": {
            "text/plain": [
              "    Predicted value  Real Value\n",
              "0          0.067622           0\n",
              "1          0.011845           0\n",
              "2          1.053305           1\n",
              "3          1.927519           2\n",
              "4          1.089347           1\n",
              "5          0.098817           0\n",
              "6         -0.031739           0\n",
              "7          2.041168           2\n",
              "8          1.921593           2\n",
              "9         -0.087783           0\n",
              "10         0.906277           1\n",
              "11         2.054042           2\n",
              "12         2.040652           2\n",
              "13        -0.049332           0\n",
              "14         1.947656           2\n",
              "15         2.039930           2\n",
              "16         0.955637           1\n",
              "17         2.013618           2\n",
              "18         1.033080           1\n",
              "19        -0.043623           0"
            ],
            "text/html": [
              "\n",
              "  <div id=\"df-c537cb33-4333-4298-a30e-3230641ed679\">\n",
              "    <div class=\"colab-df-container\">\n",
              "      <div>\n",
              "<style scoped>\n",
              "    .dataframe tbody tr th:only-of-type {\n",
              "        vertical-align: middle;\n",
              "    }\n",
              "\n",
              "    .dataframe tbody tr th {\n",
              "        vertical-align: top;\n",
              "    }\n",
              "\n",
              "    .dataframe thead th {\n",
              "        text-align: right;\n",
              "    }\n",
              "</style>\n",
              "<table border=\"1\" class=\"dataframe\">\n",
              "  <thead>\n",
              "    <tr style=\"text-align: right;\">\n",
              "      <th></th>\n",
              "      <th>Predicted value</th>\n",
              "      <th>Real Value</th>\n",
              "    </tr>\n",
              "  </thead>\n",
              "  <tbody>\n",
              "    <tr>\n",
              "      <th>0</th>\n",
              "      <td>0.067622</td>\n",
              "      <td>0</td>\n",
              "    </tr>\n",
              "    <tr>\n",
              "      <th>1</th>\n",
              "      <td>0.011845</td>\n",
              "      <td>0</td>\n",
              "    </tr>\n",
              "    <tr>\n",
              "      <th>2</th>\n",
              "      <td>1.053305</td>\n",
              "      <td>1</td>\n",
              "    </tr>\n",
              "    <tr>\n",
              "      <th>3</th>\n",
              "      <td>1.927519</td>\n",
              "      <td>2</td>\n",
              "    </tr>\n",
              "    <tr>\n",
              "      <th>4</th>\n",
              "      <td>1.089347</td>\n",
              "      <td>1</td>\n",
              "    </tr>\n",
              "    <tr>\n",
              "      <th>5</th>\n",
              "      <td>0.098817</td>\n",
              "      <td>0</td>\n",
              "    </tr>\n",
              "    <tr>\n",
              "      <th>6</th>\n",
              "      <td>-0.031739</td>\n",
              "      <td>0</td>\n",
              "    </tr>\n",
              "    <tr>\n",
              "      <th>7</th>\n",
              "      <td>2.041168</td>\n",
              "      <td>2</td>\n",
              "    </tr>\n",
              "    <tr>\n",
              "      <th>8</th>\n",
              "      <td>1.921593</td>\n",
              "      <td>2</td>\n",
              "    </tr>\n",
              "    <tr>\n",
              "      <th>9</th>\n",
              "      <td>-0.087783</td>\n",
              "      <td>0</td>\n",
              "    </tr>\n",
              "    <tr>\n",
              "      <th>10</th>\n",
              "      <td>0.906277</td>\n",
              "      <td>1</td>\n",
              "    </tr>\n",
              "    <tr>\n",
              "      <th>11</th>\n",
              "      <td>2.054042</td>\n",
              "      <td>2</td>\n",
              "    </tr>\n",
              "    <tr>\n",
              "      <th>12</th>\n",
              "      <td>2.040652</td>\n",
              "      <td>2</td>\n",
              "    </tr>\n",
              "    <tr>\n",
              "      <th>13</th>\n",
              "      <td>-0.049332</td>\n",
              "      <td>0</td>\n",
              "    </tr>\n",
              "    <tr>\n",
              "      <th>14</th>\n",
              "      <td>1.947656</td>\n",
              "      <td>2</td>\n",
              "    </tr>\n",
              "    <tr>\n",
              "      <th>15</th>\n",
              "      <td>2.039930</td>\n",
              "      <td>2</td>\n",
              "    </tr>\n",
              "    <tr>\n",
              "      <th>16</th>\n",
              "      <td>0.955637</td>\n",
              "      <td>1</td>\n",
              "    </tr>\n",
              "    <tr>\n",
              "      <th>17</th>\n",
              "      <td>2.013618</td>\n",
              "      <td>2</td>\n",
              "    </tr>\n",
              "    <tr>\n",
              "      <th>18</th>\n",
              "      <td>1.033080</td>\n",
              "      <td>1</td>\n",
              "    </tr>\n",
              "    <tr>\n",
              "      <th>19</th>\n",
              "      <td>-0.043623</td>\n",
              "      <td>0</td>\n",
              "    </tr>\n",
              "  </tbody>\n",
              "</table>\n",
              "</div>\n",
              "      <button class=\"colab-df-convert\" onclick=\"convertToInteractive('df-c537cb33-4333-4298-a30e-3230641ed679')\"\n",
              "              title=\"Convert this dataframe to an interactive table.\"\n",
              "              style=\"display:none;\">\n",
              "        \n",
              "  <svg xmlns=\"http://www.w3.org/2000/svg\" height=\"24px\"viewBox=\"0 0 24 24\"\n",
              "       width=\"24px\">\n",
              "    <path d=\"M0 0h24v24H0V0z\" fill=\"none\"/>\n",
              "    <path d=\"M18.56 5.44l.94 2.06.94-2.06 2.06-.94-2.06-.94-.94-2.06-.94 2.06-2.06.94zm-11 1L8.5 8.5l.94-2.06 2.06-.94-2.06-.94L8.5 2.5l-.94 2.06-2.06.94zm10 10l.94 2.06.94-2.06 2.06-.94-2.06-.94-.94-2.06-.94 2.06-2.06.94z\"/><path d=\"M17.41 7.96l-1.37-1.37c-.4-.4-.92-.59-1.43-.59-.52 0-1.04.2-1.43.59L10.3 9.45l-7.72 7.72c-.78.78-.78 2.05 0 2.83L4 21.41c.39.39.9.59 1.41.59.51 0 1.02-.2 1.41-.59l7.78-7.78 2.81-2.81c.8-.78.8-2.07 0-2.86zM5.41 20L4 18.59l7.72-7.72 1.47 1.35L5.41 20z\"/>\n",
              "  </svg>\n",
              "      </button>\n",
              "      \n",
              "  <style>\n",
              "    .colab-df-container {\n",
              "      display:flex;\n",
              "      flex-wrap:wrap;\n",
              "      gap: 12px;\n",
              "    }\n",
              "\n",
              "    .colab-df-convert {\n",
              "      background-color: #E8F0FE;\n",
              "      border: none;\n",
              "      border-radius: 50%;\n",
              "      cursor: pointer;\n",
              "      display: none;\n",
              "      fill: #1967D2;\n",
              "      height: 32px;\n",
              "      padding: 0 0 0 0;\n",
              "      width: 32px;\n",
              "    }\n",
              "\n",
              "    .colab-df-convert:hover {\n",
              "      background-color: #E2EBFA;\n",
              "      box-shadow: 0px 1px 2px rgba(60, 64, 67, 0.3), 0px 1px 3px 1px rgba(60, 64, 67, 0.15);\n",
              "      fill: #174EA6;\n",
              "    }\n",
              "\n",
              "    [theme=dark] .colab-df-convert {\n",
              "      background-color: #3B4455;\n",
              "      fill: #D2E3FC;\n",
              "    }\n",
              "\n",
              "    [theme=dark] .colab-df-convert:hover {\n",
              "      background-color: #434B5C;\n",
              "      box-shadow: 0px 1px 3px 1px rgba(0, 0, 0, 0.15);\n",
              "      filter: drop-shadow(0px 1px 2px rgba(0, 0, 0, 0.3));\n",
              "      fill: #FFFFFF;\n",
              "    }\n",
              "  </style>\n",
              "\n",
              "      <script>\n",
              "        const buttonEl =\n",
              "          document.querySelector('#df-c537cb33-4333-4298-a30e-3230641ed679 button.colab-df-convert');\n",
              "        buttonEl.style.display =\n",
              "          google.colab.kernel.accessAllowed ? 'block' : 'none';\n",
              "\n",
              "        async function convertToInteractive(key) {\n",
              "          const element = document.querySelector('#df-c537cb33-4333-4298-a30e-3230641ed679');\n",
              "          const dataTable =\n",
              "            await google.colab.kernel.invokeFunction('convertToInteractive',\n",
              "                                                     [key], {});\n",
              "          if (!dataTable) return;\n",
              "\n",
              "          const docLinkHtml = 'Like what you see? Visit the ' +\n",
              "            '<a target=\"_blank\" href=https://colab.research.google.com/notebooks/data_table.ipynb>data table notebook</a>'\n",
              "            + ' to learn more about interactive tables.';\n",
              "          element.innerHTML = '';\n",
              "          dataTable['output_type'] = 'display_data';\n",
              "          await google.colab.output.renderOutput(dataTable, element);\n",
              "          const docLink = document.createElement('div');\n",
              "          docLink.innerHTML = docLinkHtml;\n",
              "          element.appendChild(docLink);\n",
              "        }\n",
              "      </script>\n",
              "    </div>\n",
              "  </div>\n",
              "  "
            ]
          },
          "metadata": {},
          "execution_count": 53
        }
      ]
    },
    {
      "cell_type": "markdown",
      "source": [
        "**14)Measure the performance using Metrics.**"
      ],
      "metadata": {
        "id": "yyj4pj2a3pg_"
      }
    },
    {
      "cell_type": "code",
      "source": [
        "#Performance Metrics\n",
        "from sklearn.metrics import mean_squared_error\n",
        "import math\n",
        "print(mean_squared_error(y_test, y_pred))\n",
        "print(math.sqrt(mean_squared_error(y_test, y_pred)))"
      ],
      "metadata": {
        "colab": {
          "base_uri": "https://localhost:8080/"
        },
        "id": "zUZam1rH3slr",
        "outputId": "cee6fdfa-4abc-4623-da8a-eafeb8b9897d"
      },
      "execution_count": 54,
      "outputs": [
        {
          "output_type": "stream",
          "name": "stdout",
          "text": [
            "0.0036193585851442256\n",
            "0.06016110525201665\n"
          ]
        }
      ]
    }
  ]
}